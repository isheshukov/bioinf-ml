{
 "cells": [
  {
   "cell_type": "code",
   "execution_count": 2,
   "metadata": {},
   "outputs": [],
   "source": [
    "import numpy as np\n",
    "import pandas as pd\n",
    "import matplotlib.pyplot as plt\n",
    "from sklearn.metrics import roc_auc_score, roc_curve, auc, confusion_matrix\n",
    "from sklearn.model_selection import train_test_split\n",
    "from treelib import Node, Tree\n",
    "from copy import deepcopy\n",
    "import warnings\n",
    "warnings.filterwarnings('ignore')"
   ]
  },
  {
   "cell_type": "markdown",
   "metadata": {},
   "source": [
    "# Задача 1"
   ]
  },
  {
   "cell_type": "code",
   "execution_count": 3,
   "metadata": {},
   "outputs": [],
   "source": [
    "def prob1(data, label, true_label):\n",
    "    def classification_counts(column, label, x, true_label):\n",
    "        pred_pos = column >= x\n",
    "        pred_neg = ~pred_pos\n",
    "        label_pos = label == true_label\n",
    "        label_neg = ~label_pos\n",
    "\n",
    "        return column[pred_pos & label_neg].count(), \\\n",
    "               column[pred_pos & label_pos].count(), \\\n",
    "               column[pred_neg & label_neg].count(), \\\n",
    "               column[pred_neg & label_pos].count()\n",
    "\n",
    "    FPrates = []\n",
    "    TPrates = []\n",
    "    aucs = []\n",
    "    for name, column in data.iteritems():\n",
    "        FPrate = np.zeros(20)\n",
    "        TPrate = np.zeros(20)\n",
    "        for i, x in enumerate(np.linspace(np.min(column), np.max(column), 20)):\n",
    "            FP, TP, TN, FN = classification_counts(column, label, x, true_label)\n",
    "            TPrate[i] = TP/(TP + FN)\n",
    "            FPrate[i] = FP/(FP + TN)\n",
    "        FPrates.append(FPrate)\n",
    "        TPrates.append(TPrate)\n",
    "        aucs.append(auc(FPrate, TPrate))\n",
    "\n",
    "    top3_idx = np.argpartition(aucs, -3)[-3:]\n",
    "\n",
    "    for i in top3_idx:\n",
    "        print(f\"{data.columns.values.tolist()[i]} - {aucs[i]}\")\n",
    "        plt.plot(FPrates[i], TPrates[i], '-', label=str(data.columns.values.tolist()[i]))\n",
    "        plt.legend()"
   ]
  },
  {
   "cell_type": "code",
   "execution_count": 4,
   "metadata": {},
   "outputs": [
    {
     "name": "stdout",
     "output_type": "stream",
     "text": [
      "word_freq_all - 0.6613574566280039\n",
      "word_freq_you - 0.6918702879965434\n",
      "word_freq_your - 0.7610812947459802\n"
     ]
    },
    {
     "data": {
      "image/png": "[encoded data removed]",
      "text/plain": [
       "<Figure size 432x288 with 1 Axes>"
      ]
     },
     "metadata": {
      "needs_background": "light"
     },
     "output_type": "display_data"
    }
   ],
   "source": [
    "spam = pd.read_csv(\"../data/spam.csv\")\n",
    "spam_label = spam[\"label\"]\n",
    "spam = spam.drop(\"label\", axis=1)\n",
    "  \n",
    "prob1(spam, spam_label, 1)"
   ]
  },
  {
   "cell_type": "code",
   "execution_count": 5,
   "metadata": {},
   "outputs": [
    {
     "name": "stdout",
     "output_type": "stream",
     "text": [
      "28 - 0.9633145711114635\n",
      "23 - 0.9699342000951323\n",
      "21 - 0.9670670154854395\n"
     ]
    },
    {
     "data": {
      "image/png": "[encoded data removed]",
      "text/plain": [
       "<Figure size 432x288 with 1 Axes>"
      ]
     },
     "metadata": {
      "needs_background": "light"
     },
     "output_type": "display_data"
    }
   ],
   "source": [
    "cancer = pd.read_csv(\"../data/cancer.csv\")\n",
    "cancer_label = cancer[\"label\"]\n",
    "cancer = cancer.drop(\"label\", axis=1)\n",
    "\n",
    "prob1(cancer, cancer_label, 'M')"
   ]
  },
  {
   "cell_type": "markdown",
   "metadata": {},
   "source": [
    "# Задача 2"
   ]
  },
  {
   "cell_type": "code",
   "execution_count": 6,
   "metadata": {},
   "outputs": [],
   "source": [
    "def prob2(data, label, c):\n",
    "    train, validate = train_test_split(data, test_size=0.2)\n",
    "    print(f\"Data     1 to 0 ratio: {np.count_nonzero(label == c) / np.count_nonzero(label != c)}\")\n",
    "    print(f\"Train    1 to 0 ratio: {np.count_nonzero(label[train.index] == c) / np.count_nonzero(label[train.index] != c)}\")\n",
    "    print(f\"Validate 1 to 0 ratio: {np.count_nonzero(label[validate.index] == c) / np.count_nonzero(label[validate.index] != c)}\")\n",
    "    return train, validate"
   ]
  },
  {
   "cell_type": "code",
   "execution_count": 7,
   "metadata": {},
   "outputs": [
    {
     "name": "stdout",
     "output_type": "stream",
     "text": [
      "Data     1 to 0 ratio: 0.650286944045911\n",
      "Train    1 to 0 ratio: 0.651705565529623\n",
      "Validate 1 to 0 ratio: 0.6446428571428572\n"
     ]
    }
   ],
   "source": [
    "spam_train, spam_validate = prob2(spam, spam_label, 1)"
   ]
  },
  {
   "cell_type": "code",
   "execution_count": 8,
   "metadata": {},
   "outputs": [
    {
     "name": "stdout",
     "output_type": "stream",
     "text": [
      "Data     1 to 0 ratio: 0.5938375350140056\n",
      "Train    1 to 0 ratio: 0.602112676056338\n",
      "Validate 1 to 0 ratio: 0.5616438356164384\n"
     ]
    }
   ],
   "source": [
    "cancer_train, cancer_validate = prob2(cancer, cancer_label, 'M')"
   ]
  },
  {
   "cell_type": "markdown",
   "metadata": {},
   "source": [
    "# Задача 3"
   ]
  },
  {
   "cell_type": "code",
   "execution_count": 9,
   "metadata": {},
   "outputs": [],
   "source": [
    "class LERule(object):\n",
    "    def __init__(self, feature, val):\n",
    "        self.feature = feature\n",
    "        self.val = val\n",
    "        \n",
    "    def __repr__(self):\n",
    "        return (f\"{self.feature} >= {self.val:.2f}\")\n",
    "    \n",
    "    def apply(self, data):\n",
    "        crit = data[self.feature] >= self.val\n",
    "        return data[~crit].index, data[crit].index\n",
    "\n",
    "class NodeData(object):\n",
    "    def __init__(self, samples):\n",
    "        self.samples_idx = samples\n",
    "        self.rule = True\n",
    "        self.label = None\n",
    "        self.inf_gain = None"
   ]
  },
  {
   "cell_type": "code",
   "execution_count": 24,
   "metadata": {},
   "outputs": [],
   "source": [
    "def accuracy(tree, validate, label):\n",
    "    def fun(row):\n",
    "        current = tree.root\n",
    "        while not tree[current].is_leaf():\n",
    "            feature, value = tree[current].data.rule.feature, tree[current].data.rule.val\n",
    "            if (row[feature] >= value):\n",
    "                current = 2*current + 2\n",
    "            else:\n",
    "                current = 2*current + 1\n",
    "        return tree[current].data.label\n",
    "     \n",
    "    x = validate.apply(fun, axis=1)\n",
    "    tn, fp, fn, tp = confusion_matrix(x, label).ravel()\n",
    "    \n",
    "    return (tp+tn)/(tn + fp + fn + tp)\n",
    "\n",
    "def inf_gain(data, label, unique_labels, rules, node, method='misclass'):\n",
    "    \n",
    "    data_size = len(data.index)\n",
    "    def misclassification_error(idx):\n",
    "        try:\n",
    "            return 1 - max([len(data.loc[idx][label == l].index) for l in unique_labels])/len(idx)\n",
    "        except ZeroDivisionError:\n",
    "            return 0\n",
    "\n",
    "    def entropy(idx):\n",
    "        try:\n",
    "            a = -sum([np.sum(label[idx] == l) / len(idx) * np.log2(np.sum(label[idx] == l) / len(idx)) for l in unique_labels])\n",
    "            if not np.isnan(a):\n",
    "                return a\n",
    "            else:\n",
    "                return 0\n",
    "        except KeyboardInterrupt:\n",
    "            raise\n",
    "        except:\n",
    "            return 0\n",
    "\n",
    "    def gini(idx):\n",
    "        try:\n",
    "            return sum([len(data.loc[idx][label == l].index) * len(data.loc[idx][label != l].index) for l in unique_labels]) / len(idx)**2\n",
    "        except ZeroDivisionError:\n",
    "            return 0\n",
    "\n",
    "    idx = node.data.samples_idx\n",
    "    idx_len = len(idx)\n",
    "    fn_dict = {'misclass': misclassification_error, 'entropy': entropy, 'gini': gini}\n",
    "    fn = fn_dict[method]\n",
    "\n",
    "    gains = []\n",
    "\n",
    "    for rule in rules:\n",
    "        left_idx, right_idx = rule.apply(data.loc[idx])\n",
    "        gains.append((idx_len*fn(idx) - len(left_idx)*fn(left_idx) - len(right_idx)*fn(right_idx))/data_size)\n",
    "\n",
    "    best_rule_idx = np.argmax(gains)\n",
    "    return (rules[best_rule_idx], gains[best_rule_idx])\n",
    "\n",
    "def prob3(data, validate, label, unique_labels, depth = 9, method = 'misclass'):\n",
    "    n = 0\n",
    "    tree = Tree()\n",
    "    tree.create_node(\"root\", n, data=NodeData(data.index))\n",
    "    \n",
    "    while tree.depth() <= depth:\n",
    "        if all([leaf.data.label is not None for leaf in tree.leaves()]):\n",
    "            break\n",
    "            \n",
    "        for node in tree.leaves():\n",
    "            if node.data.label is not None:\n",
    "                continue\n",
    "\n",
    "            node_labels = label.loc[node.data.samples_idx].unique()\n",
    "            if len(node_labels) == 1:\n",
    "                node.tag += f\", class: {node_labels[0]}\"\n",
    "                node.data.label = node_labels[0]\n",
    "                continue\n",
    "\n",
    "            rules = []\n",
    "            for name, column in data.loc[node.data.samples_idx].iteritems():\n",
    "                tholds = np.linspace(np.min(column), np.max(column), 10)\n",
    "                rules += [LERule(name, t) for t in tholds]\n",
    "\n",
    "            best_rule, node.data.inf_gain = inf_gain(data, label, unique_labels, rules, node, method=method)\n",
    "            node.data.rule = best_rule\n",
    "\n",
    "            left_idx, right_idx = best_rule.apply(data.loc[node.data.samples_idx])\n",
    "            if len(left_idx) == 0 or len(right_idx) == 0:\n",
    "                df = label.loc[node.data.samples_idx]\n",
    "                mode = df.mode()[0]\n",
    "                node.tag += f\", class: {mode}\"\n",
    "                node.data.label = mode\n",
    "            else:\n",
    "                tree.create_node(f\"otherwise, size={len(left_idx)}, id={2*node.identifier+1}\", 2*node.identifier+1, data=NodeData(left_idx), parent=node.identifier)\n",
    "                tree.create_node(f\"{best_rule}, size={len(right_idx)}, id={2*node.identifier+2}\", 2*node.identifier+2, data=NodeData(right_idx), parent=node.identifier)\n",
    "                #print(label.loc[right_idx])\n",
    "                #n *= 2\n",
    "\n",
    "        treeD = deepcopy(tree)\n",
    "        for node in treeD.leaves():\n",
    "            if node.data.label is None:\n",
    "                if len(node.data.samples_idx):\n",
    "                    df = label.loc[node.data.samples_idx]\n",
    "                    mode = df.mode()[0]\n",
    "                    node.tag += f\", class: {mode}\"\n",
    "                    node.data.label = mode\n",
    "                else:\n",
    "                    treeD.remove_node(node.identifier)\n",
    "                    \n",
    "        #tree.show()\n",
    "        print(f\"Depth {treeD.depth()} - {accuracy(treeD, validate, label[validate.index])}\")\n",
    "    return treeD"
   ]
  },
  {
   "cell_type": "code",
   "execution_count": 11,
   "metadata": {},
   "outputs": [
    {
     "name": "stdout",
     "output_type": "stream",
     "text": [
      "Spam\n",
      "Misclassification error:\n",
      "Depth 1 - 0.7307274701411509\n",
      "Depth 2 - 0.7839305103148752\n",
      "Depth 3 - 0.8034744842562432\n",
      "Depth 4 - 0.8512486427795874\n",
      "Depth 5 - 0.8642779587404995\n",
      "Depth 6 - 0.8740499457111836\n",
      "Depth 7 - 0.8675352877307275\n",
      "Depth 8 - 0.8881650380021715\n",
      "Depth 9 - 0.8935939196525515\n",
      "Depth 10 - 0.8990228013029316\n"
     ]
    },
    {
     "data": {
      "text/plain": [
       "<treelib.tree.Tree at 0x7fd3610575c0>"
      ]
     },
     "execution_count": 11,
     "metadata": {},
     "output_type": "execute_result"
    }
   ],
   "source": [
    "print('Spam')\n",
    "print(\"Misclassification error:\")\n",
    "prob3(spam_train, spam_validate, spam_label, [0, 1], method='misclass')"
   ]
  },
  {
   "cell_type": "code",
   "execution_count": 21,
   "metadata": {},
   "outputs": [
    {
     "name": "stdout",
     "output_type": "stream",
     "text": [
      "Entropy:\n",
      "Depth 1 - 0.7307274701411509\n",
      "Depth 2 - 0.762214983713355\n",
      "Depth 3 - 0.8110749185667753\n",
      "Depth 4 - 0.8121606948968513\n",
      "Depth 5 - 0.8577633007600435\n",
      "Depth 6 - 0.8816503800217155\n",
      "Depth 7 - 0.8925081433224755\n",
      "Depth 8 - 0.8979370249728555\n",
      "Depth 9 - 0.8957654723127035\n",
      "Depth 10 - 0.8990228013029316\n"
     ]
    },
    {
     "data": {
      "text/plain": [
       "<treelib.tree.Tree at 0x7fd3610194a8>"
      ]
     },
     "execution_count": 21,
     "metadata": {},
     "output_type": "execute_result"
    }
   ],
   "source": [
    "print(\"Entropy:\")\n",
    "prob3(spam_train, spam_validate, spam_label, [0, 1], method='entropy')"
   ]
  },
  {
   "cell_type": "code",
   "execution_count": 22,
   "metadata": {},
   "outputs": [
    {
     "name": "stdout",
     "output_type": "stream",
     "text": [
      "Gini:\n",
      "Depth 1 - 0.7307274701411509\n",
      "Depth 2 - 0.762214983713355\n",
      "Depth 3 - 0.8197611292073833\n",
      "Depth 4 - 0.8393051031487514\n",
      "Depth 5 - 0.8436482084690554\n",
      "Depth 6 - 0.8838219326818675\n",
      "Depth 7 - 0.8957654723127035\n",
      "Depth 8 - 0.8979370249728555\n",
      "Depth 9 - 0.9011943539630836\n",
      "Depth 10 - 0.9077090119435396\n"
     ]
    },
    {
     "data": {
      "text/plain": [
       "<treelib.tree.Tree at 0x7fd360d76630>"
      ]
     },
     "execution_count": 22,
     "metadata": {},
     "output_type": "execute_result"
    }
   ],
   "source": [
    "print(\"Gini:\")\n",
    "prob3(spam_train, spam_validate, spam_label, [0, 1], method='gini')"
   ]
  },
  {
   "cell_type": "code",
   "execution_count": 25,
   "metadata": {},
   "outputs": [
    {
     "name": "stdout",
     "output_type": "stream",
     "text": [
      "Misclassification error:\n",
      "Depth 1 - 0.8771929824561403\n",
      "Depth 2 - 0.9473684210526315\n",
      "Depth 3 - 0.9035087719298246\n",
      "Depth 4 - 0.9298245614035088\n",
      "Depth 5 - 0.9210526315789473\n",
      "Depth 5 - 0.9210526315789473\n"
     ]
    },
    {
     "data": {
      "text/plain": [
       "<treelib.tree.Tree at 0x7fd361019940>"
      ]
     },
     "execution_count": 25,
     "metadata": {},
     "output_type": "execute_result"
    }
   ],
   "source": [
    "print(\"Misclassification error:\")\n",
    "prob3(cancer_train, cancer_validate, cancer_label, ['B', 'M'], depth = 6, method='misclass')"
   ]
  },
  {
   "cell_type": "code",
   "execution_count": 26,
   "metadata": {},
   "outputs": [
    {
     "name": "stdout",
     "output_type": "stream",
     "text": [
      "Entropy:\n",
      "Depth 1 - 0.8771929824561403\n",
      "Depth 2 - 0.9035087719298246\n",
      "Depth 3 - 0.9298245614035088\n",
      "Depth 4 - 0.9298245614035088\n",
      "Depth 5 - 0.9210526315789473\n",
      "Depth 6 - 0.9210526315789473\n",
      "Depth 6 - 0.9210526315789473\n"
     ]
    },
    {
     "data": {
      "text/plain": [
       "<treelib.tree.Tree at 0x7fd364b10668>"
      ]
     },
     "execution_count": 26,
     "metadata": {},
     "output_type": "execute_result"
    }
   ],
   "source": [
    "print(\"Entropy:\")\n",
    "prob3(cancer_train, cancer_validate, cancer_label, ['B', 'M'], method='entropy')"
   ]
  },
  {
   "cell_type": "code",
   "execution_count": 27,
   "metadata": {},
   "outputs": [
    {
     "name": "stdout",
     "output_type": "stream",
     "text": [
      "Gini:\n",
      "Depth 1 - 0.8771929824561403\n",
      "Depth 2 - 0.8947368421052632\n",
      "Depth 3 - 0.8947368421052632\n",
      "Depth 4 - 0.8947368421052632\n",
      "Depth 5 - 0.9210526315789473\n",
      "Depth 6 - 0.9210526315789473\n",
      "Depth 7 - 0.9210526315789473\n"
     ]
    },
    {
     "data": {
      "text/plain": [
       "<treelib.tree.Tree at 0x7fd360d30b00>"
      ]
     },
     "execution_count": 27,
     "metadata": {},
     "output_type": "execute_result"
    }
   ],
   "source": [
    "print(\"Gini:\")\n",
    "prob3(cancer_train, cancer_validate, cancer_label, ['B', 'M'], depth = 6, method='gini')"
   ]
  },
  {
   "cell_type": "markdown",
   "metadata": {},
   "source": [
    "# Задача 4"
   ]
  },
  {
   "cell_type": "code",
   "execution_count": 28,
   "metadata": {},
   "outputs": [
    {
     "name": "stdout",
     "output_type": "stream",
     "text": [
      "Depth 1 - 0.8771929824561403\n",
      "Depth 2 - 0.9473684210526315\n",
      "Depth 1 - 0.8771929824561403\n",
      "Depth 2 - 0.9035087719298246\n",
      "Depth 3 - 0.9298245614035088\n",
      "Depth 4 - 0.9298245614035088\n",
      "Depth 1 - 0.8771929824561403\n",
      "Depth 2 - 0.8947368421052632\n"
     ]
    }
   ],
   "source": [
    "best_misclass_cancer = prob3(cancer_train, cancer_validate, cancer_label, ['B', 'M'], depth=1, method='misclass')\n",
    "best_ent_cancer = prob3(cancer_train, cancer_validate, cancer_label, ['B', 'M'], depth=3, method='entropy')\n",
    "best_gini_cancer = prob3(cancer_train, cancer_validate, cancer_label, ['B', 'M'], depth=1, method='gini')"
   ]
  },
  {
   "cell_type": "code",
   "execution_count": 33,
   "metadata": {},
   "outputs": [
    {
     "name": "stdout",
     "output_type": "stream",
     "text": [
      "Depth 1 - 0.7307274701411509\n",
      "Depth 2 - 0.7839305103148752\n",
      "Depth 3 - 0.8034744842562432\n",
      "Depth 4 - 0.8512486427795874\n",
      "Depth 5 - 0.8642779587404995\n",
      "Depth 6 - 0.8740499457111836\n",
      "Depth 7 - 0.8675352877307275\n",
      "Depth 8 - 0.8881650380021715\n",
      "Depth 9 - 0.8935939196525515\n",
      "Depth 10 - 0.8990228013029316\n",
      "Depth 1 - 0.7307274701411509\n",
      "Depth 2 - 0.762214983713355\n",
      "Depth 3 - 0.8110749185667753\n",
      "Depth 4 - 0.8121606948968513\n",
      "Depth 5 - 0.8577633007600435\n",
      "Depth 6 - 0.8816503800217155\n",
      "Depth 7 - 0.8925081433224755\n",
      "Depth 8 - 0.8979370249728555\n",
      "Depth 9 - 0.8957654723127035\n",
      "Depth 10 - 0.8990228013029316\n",
      "Depth 1 - 0.7307274701411509\n",
      "Depth 2 - 0.762214983713355\n",
      "Depth 3 - 0.8197611292073833\n",
      "Depth 4 - 0.8393051031487514\n",
      "Depth 5 - 0.8436482084690554\n",
      "Depth 6 - 0.8838219326818675\n",
      "Depth 7 - 0.8957654723127035\n",
      "Depth 8 - 0.8979370249728555\n",
      "Depth 9 - 0.9011943539630836\n",
      "Depth 10 - 0.9077090119435396\n"
     ]
    }
   ],
   "source": [
    "best_misclass_spam = prob3(spam_train, spam_validate, spam_label, [0, 1], depth=9, method='misclass')\n",
    "best_ent_spam = prob3(spam_train, spam_validate, spam_label, [0, 1], depth=9, method='entropy')\n",
    "best_gini_spam = prob3(spam_train, spam_validate, spam_label, [0, 1], depth=9, method='gini')"
   ]
  },
  {
   "cell_type": "code",
   "execution_count": 34,
   "metadata": {},
   "outputs": [],
   "source": [
    "def prob4(tree, train, label, validate, unique_labels = [0, 1]):\n",
    "    def fun(row):\n",
    "        current = tree.root\n",
    "        while not tree[current].is_leaf():\n",
    "            feature, value = tree[current].data.rule.feature, tree[current].data.rule.val\n",
    "            if (row[feature] >= value):\n",
    "                current = 2*current + 2\n",
    "            else:\n",
    "                current = 2*current + 1\n",
    "        return np.sum(label.loc[tree[current].data.samples_idx] == unique_labels[1]) / len(tree[current].data.samples_idx)\n",
    "\n",
    "    pr = validate.apply(fun, axis=1)\n",
    "    auc_ = roc_auc_score(label.loc[validate.index].values, pr)\n",
    "    fpr, tpr, _ = roc_curve(label.loc[validate.index].values, pr, pos_label=unique_labels[1])\n",
    "    print(f\"ROC-AUC = {auc_}\")\n",
    "    plt.plot(fpr, tpr)"
   ]
  },
  {
   "cell_type": "code",
   "execution_count": 35,
   "metadata": {},
   "outputs": [
    {
     "name": "stdout",
     "output_type": "stream",
     "text": [
      "ROC-AUC = 0.9507183427998663\n"
     ]
    },
    {
     "data": {
      "image/png": "[encoded data removed]",
      "text/plain": [
       "<Figure size 432x288 with 1 Axes>"
      ]
     },
     "metadata": {
      "needs_background": "light"
     },
     "output_type": "display_data"
    }
   ],
   "source": [
    "prob4(best_misclass_cancer, cancer_train, cancer_label, cancer_validate, ['B', 'M'])"
   ]
  },
  {
   "cell_type": "code",
   "execution_count": 36,
   "metadata": {},
   "outputs": [
    {
     "name": "stdout",
     "output_type": "stream",
     "text": [
      "ROC-AUC = 0.9298362846642165\n"
     ]
    },
    {
     "data": {
      "image/png": "[encoded data removed]",
      "text/plain": [
       "<Figure size 432x288 with 1 Axes>"
      ]
     },
     "metadata": {
      "needs_background": "light"
     },
     "output_type": "display_data"
    }
   ],
   "source": [
    "prob4(best_ent_cancer, cancer_train, cancer_label, cancer_validate, ['B', 'M'])"
   ]
  },
  {
   "cell_type": "code",
   "execution_count": 37,
   "metadata": {},
   "outputs": [
    {
     "name": "stdout",
     "output_type": "stream",
     "text": [
      "ROC-AUC = 0.9452054794520548\n"
     ]
    },
    {
     "data": {
      "image/png": "[encoded data removed]",
      "text/plain": [
       "<Figure size 432x288 with 1 Axes>"
      ]
     },
     "metadata": {
      "needs_background": "light"
     },
     "output_type": "display_data"
    }
   ],
   "source": [
    "prob4(best_gini_cancer, cancer_train, cancer_label, cancer_validate, ['B', 'M'])"
   ]
  },
  {
   "cell_type": "code",
   "execution_count": 38,
   "metadata": {},
   "outputs": [
    {
     "name": "stdout",
     "output_type": "stream",
     "text": [
      "ROC-AUC = 0.908824693312228\n"
     ]
    },
    {
     "data": {
      "image/png": "[encoded data removed]",
      "text/plain": [
       "<Figure size 432x288 with 1 Axes>"
      ]
     },
     "metadata": {
      "needs_background": "light"
     },
     "output_type": "display_data"
    }
   ],
   "source": [
    "prob4(best_misclass_spam, spam_train, spam_label, spam_validate, [0, 1])"
   ]
  },
  {
   "cell_type": "code",
   "execution_count": 39,
   "metadata": {},
   "outputs": [
    {
     "name": "stdout",
     "output_type": "stream",
     "text": [
      "ROC-AUC = 0.9261995449149188\n"
     ]
    },
    {
     "data": {
      "image/png": "[encoded data removed]",
      "text/plain": [
       "<Figure size 432x288 with 1 Axes>"
      ]
     },
     "metadata": {
      "needs_background": "light"
     },
     "output_type": "display_data"
    }
   ],
   "source": [
    "prob4(best_ent_spam, spam_train, spam_label, spam_validate, [0, 1])"
   ]
  },
  {
   "cell_type": "code",
   "execution_count": 40,
   "metadata": {},
   "outputs": [
    {
     "name": "stdout",
     "output_type": "stream",
     "text": [
      "ROC-AUC = 0.9217031064503364\n"
     ]
    },
    {
     "data": {
      "image/png": "[encoded data removed]",
      "text/plain": [
       "<Figure size 432x288 with 1 Axes>"
      ]
     },
     "metadata": {
      "needs_background": "light"
     },
     "output_type": "display_data"
    }
   ],
   "source": [
    "prob4(best_gini_spam, spam_train, spam_label, spam_validate, [0, 1])"
   ]
  },
  {
   "cell_type": "code",
   "execution_count": null,
   "metadata": {},
   "outputs": [],
   "source": []
  }
 ],
 "metadata": {
  "kernelspec": {
   "display_name": "Python 3",
   "language": "python",
   "name": "python3"
  },
  "language_info": {
   "codemirror_mode": {
    "name": "ipython",
    "version": 3
   },
   "file_extension": ".py",
   "mimetype": "text/x-python",
   "name": "python",
   "nbconvert_exporter": "python",
   "pygments_lexer": "ipython3",
   "version": "3.5.2"
  }
 },
 "nbformat": 4,
 "nbformat_minor": 2
}
