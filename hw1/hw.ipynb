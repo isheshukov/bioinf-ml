{
 "cells": [
  {
   "cell_type": "markdown",
   "metadata": {},
   "source": [
    "# Задача 1"
   ]
  },
  {
   "cell_type": "code",
   "execution_count": 10,
   "metadata": {},
   "outputs": [],
   "source": [
    "import numpy as np\n",
    "import pandas as pd\n",
    "import copy\n",
    "\n",
    "def kNN(x, data, k = 5):\n",
    "    #ddata = copy.deepcopy(data)\n",
    "    ddata = data.copy()\n",
    "    \n",
    "    labels = ddata[\"label\"].unique()\n",
    "    vectors = ddata.drop(\"label\", axis=1)\n",
    "    \n",
    "    # computing distances to other vectors\n",
    "    ddata[\"distance\"] = np.linalg.norm(vectors.sub(np.array(x)), axis=1)\n",
    "    \n",
    "    # sorting by distance to x\n",
    "    ddata = ddata.sort_values(by=\"distance\", axis=0)\n",
    "    first_k = ddata.iloc[0:k]\n",
    "    \n",
    "    return labels[np.argmax([first_k[first_k[\"label\"] == label].shape[0] for label in labels])]\n",
    "\n",
    "\n",
    "data_spam = pd.read_csv(\"../data/spam.csv\")\n",
    "data_cancer = pd.read_csv(\"../data/cancer.csv\")"
   ]
  },
  {
   "cell_type": "markdown",
   "metadata": {},
   "source": [
    "# Задача 2\n",
    "\n",
    "$ \\operatorname { LOO } ( k , D ) = \\sum _ { \\mathrm { x } _ { i } \\in D } h \\left( \\mathrm { x } _ { i } ; D \\backslash \\mathrm { x } _ { i } ; k \\right) \\neq y _ { i }  $"
   ]
  },
  {
   "cell_type": "code",
   "execution_count": 9,
   "metadata": {},
   "outputs": [
    {
     "name": "stdout",
     "output_type": "stream",
     "text": [
      "[48 44 42 42 38 40 39 40 38 40]\n",
      "[16.88763312 19.03933927 18.47424473 19.23494892 18.53944795 19.99565312\n",
      " 19.58269941 20.10432515 20.27820039 20.21299717]\n"
     ]
    }
   ],
   "source": [
    "from itertools import islice\n",
    "from scipy.stats import mode\n",
    "\n",
    "def LOOs(data):\n",
    "    ddata = data.copy(deep = True)\n",
    "    LOOs = np.zeros(10, dtype=int)\n",
    "\n",
    "    neighbours = list()\n",
    "    for x in ddata.itertuples():\n",
    "        test_vec = ddata.iloc[[x.Index]].drop(\"label\", axis = 1)\n",
    "        vectors = ddata.drop(\"label\", axis=1)\n",
    "        indexed_distances = zip(np.linalg.norm(vectors.sub(np.array(test_vec)), axis=1), range(0, len(vectors)))\n",
    "        neighbours = list(list(zip(*islice(sorted(indexed_distances), 1, 11)))[1])\n",
    "\n",
    "        for k, neighbour_index in enumerate(neighbours):\n",
    "            if (x.label != mode(ddata.loc[neighbours[0:k+1]].label.to_list()).mode[0]):\n",
    "                LOOs[k] += 1\n",
    "\n",
    "    return LOOs\n",
    "\n",
    "print(LOOs(data_cancer))\n",
    "print(LOOs(data_spam) / len(data_spam) * 100)"
   ]
  },
  {
   "cell_type": "code",
   "execution_count": null,
   "metadata": {},
   "outputs": [],
   "source": []
  }
 ],
 "metadata": {
  "kernelspec": {
   "display_name": "Python 3",
   "language": "python",
   "name": "python3"
  },
  "language_info": {
   "codemirror_mode": {
    "name": "ipython",
    "version": 3
   },
   "file_extension": ".py",
   "mimetype": "text/x-python",
   "name": "python",
   "nbconvert_exporter": "python",
   "pygments_lexer": "ipython3",
   "version": "3.7.2"
  }
 },
 "nbformat": 4,
 "nbformat_minor": 2
}
