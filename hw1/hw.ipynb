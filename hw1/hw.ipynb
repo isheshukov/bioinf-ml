{
 "cells": [
  {
   "cell_type": "markdown",
   "metadata": {},
   "source": [
    "# Задача 1"
   ]
  },
  {
   "cell_type": "code",
   "execution_count": 1,
   "metadata": {},
   "outputs": [],
   "source": [
    "import numpy as np\n",
    "import pandas as pd\n",
    "from itertools import islice\n",
    "from scipy.stats import mode\n",
    "from sklearn.preprocessing import MinMaxScaler\n",
    "import matplotlib.pyplot as plt"
   ]
  },
  {
   "cell_type": "code",
   "execution_count": 2,
   "metadata": {},
   "outputs": [],
   "source": [
    "def kNN(x, data, k=5):\n",
    "    # ddata = copy.deepcopy(data)\n",
    "    ddata = data.copy()\n",
    "\n",
    "    labels = ddata[\"label\"].unique()\n",
    "    vectors = ddata.drop(\"label\", axis=1)\n",
    "\n",
    "    # computing distances to other vectors\n",
    "    ddata[\"distance\"] = np.linalg.norm(vectors.sub(np.array(x)), axis=1)\n",
    "\n",
    "    # sorting by distance to x\n",
    "    ddata = ddata.sort_values(by=\"distance\", axis=0)\n",
    "    first_k = ddata.iloc[0:k]\n",
    "\n",
    "    return labels[np.argmax([first_k[first_k[\"label\"] == label].shape[0] for label in labels])]\n",
    "\n",
    "\n",
    "data_spam = pd.read_csv(\"../data/spam.csv\")\n",
    "data_cancer = pd.read_csv(\"../data/cancer.csv\")"
   ]
  },
  {
   "cell_type": "markdown",
   "metadata": {},
   "source": [
    "# Задача 2\n",
    "\n",
    "$ \\operatorname { LOO } ( k , D ) = \\frac { \\sum _ { \\mathbf { x } _ { i } \\in D } \\left[ h \\left( \\mathbf { x } _ { i } ; D \\backslash \\mathbf { x } _ { i } ; k \\right) \\neq y _ { i } \\right] } { | D | } $"
   ]
  },
  {
   "cell_type": "code",
   "execution_count": 4,
   "metadata": {},
   "outputs": [
    {
     "name": "stderr",
     "output_type": "stream",
     "text": [
      "/home/ilia/.pyenv/versions/3.7.2/envs/datasci/lib/python3.7/site-packages/scipy/stats/stats.py:248: RuntimeWarning: The input array could not be properly checked for nan values. nan values will be ignored.\n",
      "  \"values. nan values will be ignored.\", RuntimeWarning)\n"
     ]
    },
    {
     "data": {
      "text/html": [
       "<div>\n",
       "<style scoped>\n",
       "    .dataframe tbody tr th:only-of-type {\n",
       "        vertical-align: middle;\n",
       "    }\n",
       "\n",
       "    .dataframe tbody tr th {\n",
       "        vertical-align: top;\n",
       "    }\n",
       "\n",
       "    .dataframe thead th {\n",
       "        text-align: right;\n",
       "    }\n",
       "</style>\n",
       "<table border=\"1\" class=\"dataframe\">\n",
       "  <thead>\n",
       "    <tr style=\"text-align: right;\">\n",
       "      <th></th>\n",
       "      <th>k</th>\n",
       "      <th>LOO(k)</th>\n",
       "    </tr>\n",
       "  </thead>\n",
       "  <tbody>\n",
       "    <tr>\n",
       "      <th>0</th>\n",
       "      <td>1</td>\n",
       "      <td>0.084359</td>\n",
       "    </tr>\n",
       "    <tr>\n",
       "      <th>1</th>\n",
       "      <td>2</td>\n",
       "      <td>0.077329</td>\n",
       "    </tr>\n",
       "    <tr>\n",
       "      <th>2</th>\n",
       "      <td>3</td>\n",
       "      <td>0.073814</td>\n",
       "    </tr>\n",
       "    <tr>\n",
       "      <th>3</th>\n",
       "      <td>4</td>\n",
       "      <td>0.073814</td>\n",
       "    </tr>\n",
       "    <tr>\n",
       "      <th>4</th>\n",
       "      <td>5</td>\n",
       "      <td>0.066784</td>\n",
       "    </tr>\n",
       "    <tr>\n",
       "      <th>5</th>\n",
       "      <td>6</td>\n",
       "      <td>0.070299</td>\n",
       "    </tr>\n",
       "    <tr>\n",
       "      <th>6</th>\n",
       "      <td>7</td>\n",
       "      <td>0.068541</td>\n",
       "    </tr>\n",
       "    <tr>\n",
       "      <th>7</th>\n",
       "      <td>8</td>\n",
       "      <td>0.070299</td>\n",
       "    </tr>\n",
       "    <tr>\n",
       "      <th>8</th>\n",
       "      <td>9</td>\n",
       "      <td>0.066784</td>\n",
       "    </tr>\n",
       "    <tr>\n",
       "      <th>9</th>\n",
       "      <td>10</td>\n",
       "      <td>0.070299</td>\n",
       "    </tr>\n",
       "  </tbody>\n",
       "</table>\n",
       "</div>"
      ],
      "text/plain": [
       "    k    LOO(k)\n",
       "0   1  0.084359\n",
       "1   2  0.077329\n",
       "2   3  0.073814\n",
       "3   4  0.073814\n",
       "4   5  0.066784\n",
       "5   6  0.070299\n",
       "6   7  0.068541\n",
       "7   8  0.070299\n",
       "8   9  0.066784\n",
       "9  10  0.070299"
      ]
     },
     "execution_count": 4,
     "metadata": {},
     "output_type": "execute_result"
    }
   ],
   "source": [
    "def LOOs(data):\n",
    "    ddata = data.copy(deep=True)\n",
    "    LOOs = np.zeros(10, dtype=int)\n",
    "\n",
    "    neighbours = list()\n",
    "    for x in ddata.itertuples():\n",
    "        test_vec = ddata.iloc[[x.Index]].drop(\"label\", axis=1)\n",
    "        vectors = ddata.drop(\"label\", axis=1)\n",
    "        indexed_distances = zip(np.linalg.norm(vectors.sub(np.array(test_vec)), axis=1), range(0, len(vectors)))\n",
    "        neighbours = list(list(zip(*islice(sorted(indexed_distances), 1, 11)))[1])\n",
    "\n",
    "        for k, neighbour_index in enumerate(neighbours):\n",
    "            if (x.label != mode(ddata.loc[neighbours[0:k+1]].label.to_list()).mode[0]):\n",
    "                LOOs[k] += 1\n",
    "    return pd.DataFrame({'k': range(1, 11), 'LOO(k)': LOOs/len(ddata)})\n",
    "\n",
    "\n",
    "LOOs(data_cancer)"
   ]
  },
  {
   "cell_type": "code",
   "execution_count": 6,
   "metadata": {},
   "outputs": [
    {
     "data": {
      "text/html": [
       "<div>\n",
       "<style scoped>\n",
       "    .dataframe tbody tr th:only-of-type {\n",
       "        vertical-align: middle;\n",
       "    }\n",
       "\n",
       "    .dataframe tbody tr th {\n",
       "        vertical-align: top;\n",
       "    }\n",
       "\n",
       "    .dataframe thead th {\n",
       "        text-align: right;\n",
       "    }\n",
       "</style>\n",
       "<table border=\"1\" class=\"dataframe\">\n",
       "  <thead>\n",
       "    <tr style=\"text-align: right;\">\n",
       "      <th></th>\n",
       "      <th>k</th>\n",
       "      <th>LOO(k)</th>\n",
       "    </tr>\n",
       "  </thead>\n",
       "  <tbody>\n",
       "    <tr>\n",
       "      <th>0</th>\n",
       "      <td>1</td>\n",
       "      <td>0.168876</td>\n",
       "    </tr>\n",
       "    <tr>\n",
       "      <th>1</th>\n",
       "      <td>2</td>\n",
       "      <td>0.190393</td>\n",
       "    </tr>\n",
       "    <tr>\n",
       "      <th>2</th>\n",
       "      <td>3</td>\n",
       "      <td>0.184742</td>\n",
       "    </tr>\n",
       "    <tr>\n",
       "      <th>3</th>\n",
       "      <td>4</td>\n",
       "      <td>0.192349</td>\n",
       "    </tr>\n",
       "    <tr>\n",
       "      <th>4</th>\n",
       "      <td>5</td>\n",
       "      <td>0.185394</td>\n",
       "    </tr>\n",
       "    <tr>\n",
       "      <th>5</th>\n",
       "      <td>6</td>\n",
       "      <td>0.199957</td>\n",
       "    </tr>\n",
       "    <tr>\n",
       "      <th>6</th>\n",
       "      <td>7</td>\n",
       "      <td>0.195827</td>\n",
       "    </tr>\n",
       "    <tr>\n",
       "      <th>7</th>\n",
       "      <td>8</td>\n",
       "      <td>0.201043</td>\n",
       "    </tr>\n",
       "    <tr>\n",
       "      <th>8</th>\n",
       "      <td>9</td>\n",
       "      <td>0.202782</td>\n",
       "    </tr>\n",
       "    <tr>\n",
       "      <th>9</th>\n",
       "      <td>10</td>\n",
       "      <td>0.202130</td>\n",
       "    </tr>\n",
       "  </tbody>\n",
       "</table>\n",
       "</div>"
      ],
      "text/plain": [
       "    k    LOO(k)\n",
       "0   1  0.168876\n",
       "1   2  0.190393\n",
       "2   3  0.184742\n",
       "3   4  0.192349\n",
       "4   5  0.185394\n",
       "5   6  0.199957\n",
       "6   7  0.195827\n",
       "7   8  0.201043\n",
       "8   9  0.202782\n",
       "9  10  0.202130"
      ]
     },
     "execution_count": 6,
     "metadata": {},
     "output_type": "execute_result"
    }
   ],
   "source": [
    "LOOs(data_spam)"
   ]
  },
  {
   "cell_type": "markdown",
   "metadata": {},
   "source": [
    "# Задача 3"
   ]
  },
  {
   "cell_type": "code",
   "execution_count": 6,
   "metadata": {},
   "outputs": [],
   "source": [
    "def radius_neighbours(x, data, r=10):\n",
    "    ddata = data.copy()\n",
    "\n",
    "    labels = ddata[\"label\"].unique()\n",
    "    vectors = ddata.drop(\"label\", axis=1)\n",
    "\n",
    "    # computing distances to other vectors\n",
    "    ddata[\"distance\"] = np.linalg.norm(vectors.sub(np.array(x)), axis=1)\n",
    "\n",
    "    # getting neighbours in radius r\n",
    "    neighbours = ddata[ddata[\"distance\"] < r]\n",
    "\n",
    "    if neighbours.empty:\n",
    "        # if there are no neighbours in a sphere then use least frequent class\n",
    "        return labels.value_counts()[-1]\n",
    "    else:\n",
    "        return labels[np.argmax([neighbours[neighbours[\"label\"] == label].shape[0] for label in labels])]"
   ]
  },
  {
   "cell_type": "markdown",
   "metadata": {},
   "source": [
    "# Задача 4"
   ]
  },
  {
   "cell_type": "code",
   "execution_count": 12,
   "metadata": {},
   "outputs": [
    {
     "data": {
      "text/plain": [
       "<matplotlib.axes._subplots.AxesSubplot at 0x7f45bbb696d8>"
      ]
     },
     "execution_count": 12,
     "metadata": {},
     "output_type": "execute_result"
    },
    {
     "data": {
      "image/png": "[encoded data removed]",
      "text/plain": [
       "<Figure size 432x288 with 1 Axes>"
      ]
     },
     "metadata": {
      "needs_background": "light"
     },
     "output_type": "display_data"
    }
   ],
   "source": [
    "def LOO_radius(data, radii = [10]):\n",
    "    ddata = data.copy(deep=True)\n",
    "    labels = ddata[\"label\"].unique()\n",
    "    LOOs = np.zeros(len(radii), dtype=int)\n",
    "    \n",
    "    neighbours = list()\n",
    "    for x in ddata.itertuples():\n",
    "        test_vec = ddata.iloc[[x.Index]].drop(\"label\", axis=1)\n",
    "        vectors = ddata.drop(\"label\", axis=1)\n",
    "        \n",
    "        ddata[\"distance\"] = np.linalg.norm(vectors.sub(np.array(test_vec)), axis=1)\n",
    "\n",
    "        neighbours = [ ddata[ddata[\"distance\"] < radius][1:] for radius in radii ]\n",
    "\n",
    "        for k, radius_neighbours in enumerate(neighbours):\n",
    "            if radius_neighbours.empty:\n",
    "                if x.label != labels[-1]:\n",
    "                    LOOs[k] += 1\n",
    "            else:\n",
    "                if (x.label != mode(radius_neighbours.label.to_list()).mode[0]):\n",
    "                    LOOs[k] += 1\n",
    "    return pd.DataFrame({'R': radii, 'LOO(R)': LOOs/len(ddata)})\n",
    "\n",
    "lc = LOO_radius(data_cancer, radii = np.linspace(1, 2000, num=50))\n",
    "lc.plot.line(x='R', y='LOO(R)')"
   ]
  },
  {
   "cell_type": "code",
   "execution_count": 14,
   "metadata": {},
   "outputs": [
    {
     "data": {
      "text/plain": [
       "<matplotlib.axes._subplots.AxesSubplot at 0x7f45bb9f7e48>"
      ]
     },
     "execution_count": 14,
     "metadata": {},
     "output_type": "execute_result"
    },
    {
     "data": {
      "image/png": "[encoded data removed]",
      "text/plain": [
       "<Figure size 432x288 with 1 Axes>"
      ]
     },
     "metadata": {
      "needs_background": "light"
     },
     "output_type": "display_data"
    }
   ],
   "source": [
    "ls = LOO_radius(data_spam, radii = np.linspace(1, 5000, num=100))\n",
    "ls.plot.line(x='R', y='LOO(R)')"
   ]
  },
  {
   "cell_type": "markdown",
   "metadata": {},
   "source": [
    "# Задача 5"
   ]
  },
  {
   "cell_type": "code",
   "execution_count": 5,
   "metadata": {},
   "outputs": [
    {
     "name": "stderr",
     "output_type": "stream",
     "text": [
      "/home/ilia/.pyenv/versions/3.7.2/envs/datasci/lib/python3.7/site-packages/sklearn/preprocessing/data.py:323: DataConversionWarning: Data with input dtype int64, float64 were all converted to float64 by MinMaxScaler.\n",
      "  return self.partial_fit(X, y)\n",
      "/home/ilia/.pyenv/versions/3.7.2/envs/datasci/lib/python3.7/site-packages/scipy/stats/stats.py:248: RuntimeWarning: The input array could not be properly checked for nan values. nan values will be ignored.\n",
      "  \"values. nan values will be ignored.\", RuntimeWarning)\n"
     ]
    },
    {
     "data": {
      "text/html": [
       "<div>\n",
       "<style scoped>\n",
       "    .dataframe tbody tr th:only-of-type {\n",
       "        vertical-align: middle;\n",
       "    }\n",
       "\n",
       "    .dataframe tbody tr th {\n",
       "        vertical-align: top;\n",
       "    }\n",
       "\n",
       "    .dataframe thead th {\n",
       "        text-align: right;\n",
       "    }\n",
       "</style>\n",
       "<table border=\"1\" class=\"dataframe\">\n",
       "  <thead>\n",
       "    <tr style=\"text-align: right;\">\n",
       "      <th></th>\n",
       "      <th>k</th>\n",
       "      <th>LOO(k)</th>\n",
       "    </tr>\n",
       "  </thead>\n",
       "  <tbody>\n",
       "    <tr>\n",
       "      <th>0</th>\n",
       "      <td>1</td>\n",
       "      <td>0.047452</td>\n",
       "    </tr>\n",
       "    <tr>\n",
       "      <th>1</th>\n",
       "      <td>2</td>\n",
       "      <td>0.038664</td>\n",
       "    </tr>\n",
       "    <tr>\n",
       "      <th>2</th>\n",
       "      <td>3</td>\n",
       "      <td>0.029877</td>\n",
       "    </tr>\n",
       "    <tr>\n",
       "      <th>3</th>\n",
       "      <td>4</td>\n",
       "      <td>0.028120</td>\n",
       "    </tr>\n",
       "    <tr>\n",
       "      <th>4</th>\n",
       "      <td>5</td>\n",
       "      <td>0.033392</td>\n",
       "    </tr>\n",
       "    <tr>\n",
       "      <th>5</th>\n",
       "      <td>6</td>\n",
       "      <td>0.029877</td>\n",
       "    </tr>\n",
       "    <tr>\n",
       "      <th>6</th>\n",
       "      <td>7</td>\n",
       "      <td>0.029877</td>\n",
       "    </tr>\n",
       "    <tr>\n",
       "      <th>7</th>\n",
       "      <td>8</td>\n",
       "      <td>0.031634</td>\n",
       "    </tr>\n",
       "    <tr>\n",
       "      <th>8</th>\n",
       "      <td>9</td>\n",
       "      <td>0.029877</td>\n",
       "    </tr>\n",
       "    <tr>\n",
       "      <th>9</th>\n",
       "      <td>10</td>\n",
       "      <td>0.029877</td>\n",
       "    </tr>\n",
       "  </tbody>\n",
       "</table>\n",
       "</div>"
      ],
      "text/plain": [
       "    k    LOO(k)\n",
       "0   1  0.047452\n",
       "1   2  0.038664\n",
       "2   3  0.029877\n",
       "3   4  0.028120\n",
       "4   5  0.033392\n",
       "5   6  0.029877\n",
       "6   7  0.029877\n",
       "7   8  0.031634\n",
       "8   9  0.029877\n",
       "9  10  0.029877"
      ]
     },
     "execution_count": 5,
     "metadata": {},
     "output_type": "execute_result"
    }
   ],
   "source": [
    "scaler = MinMaxScaler()\n",
    "scaled_spam = data_spam.copy()\n",
    "scaled_cancer = data_cancer.copy()\n",
    "\n",
    "scaled_spam.loc[:, ~scaled_spam.columns.isin(['label'])] = scaler.fit_transform(scaled_spam.loc[:, ~scaled_spam.columns.isin(['label'])])\n",
    "scaled_cancer.loc[:, ~scaled_cancer.columns.isin(['label'])] = scaler.fit_transform(scaled_cancer.loc[:, ~scaled_cancer.columns.isin(['label'])])\n",
    "\n",
    "LOOs(scaled_cancer)"
   ]
  },
  {
   "cell_type": "code",
   "execution_count": 33,
   "metadata": {},
   "outputs": [
    {
     "data": {
      "text/html": [
       "<div>\n",
       "<style scoped>\n",
       "    .dataframe tbody tr th:only-of-type {\n",
       "        vertical-align: middle;\n",
       "    }\n",
       "\n",
       "    .dataframe tbody tr th {\n",
       "        vertical-align: top;\n",
       "    }\n",
       "\n",
       "    .dataframe thead th {\n",
       "        text-align: right;\n",
       "    }\n",
       "</style>\n",
       "<table border=\"1\" class=\"dataframe\">\n",
       "  <thead>\n",
       "    <tr style=\"text-align: right;\">\n",
       "      <th></th>\n",
       "      <th>k</th>\n",
       "      <th>LOO(k)</th>\n",
       "    </tr>\n",
       "  </thead>\n",
       "  <tbody>\n",
       "    <tr>\n",
       "      <th>0</th>\n",
       "      <td>1</td>\n",
       "      <td>0.087155</td>\n",
       "    </tr>\n",
       "    <tr>\n",
       "      <th>1</th>\n",
       "      <td>2</td>\n",
       "      <td>0.101065</td>\n",
       "    </tr>\n",
       "    <tr>\n",
       "      <th>2</th>\n",
       "      <td>3</td>\n",
       "      <td>0.094762</td>\n",
       "    </tr>\n",
       "    <tr>\n",
       "      <th>3</th>\n",
       "      <td>4</td>\n",
       "      <td>0.101500</td>\n",
       "    </tr>\n",
       "    <tr>\n",
       "      <th>4</th>\n",
       "      <td>5</td>\n",
       "      <td>0.094979</td>\n",
       "    </tr>\n",
       "    <tr>\n",
       "      <th>5</th>\n",
       "      <td>6</td>\n",
       "      <td>0.102586</td>\n",
       "    </tr>\n",
       "    <tr>\n",
       "      <th>6</th>\n",
       "      <td>7</td>\n",
       "      <td>0.099326</td>\n",
       "    </tr>\n",
       "    <tr>\n",
       "      <th>7</th>\n",
       "      <td>8</td>\n",
       "      <td>0.102369</td>\n",
       "    </tr>\n",
       "    <tr>\n",
       "      <th>8</th>\n",
       "      <td>9</td>\n",
       "      <td>0.101934</td>\n",
       "    </tr>\n",
       "    <tr>\n",
       "      <th>9</th>\n",
       "      <td>10</td>\n",
       "      <td>0.105195</td>\n",
       "    </tr>\n",
       "  </tbody>\n",
       "</table>\n",
       "</div>"
      ],
      "text/plain": [
       "    k    LOO(k)\n",
       "0   1  0.087155\n",
       "1   2  0.101065\n",
       "2   3  0.094762\n",
       "3   4  0.101500\n",
       "4   5  0.094979\n",
       "5   6  0.102586\n",
       "6   7  0.099326\n",
       "7   8  0.102369\n",
       "8   9  0.101934\n",
       "9  10  0.105195"
      ]
     },
     "execution_count": 33,
     "metadata": {},
     "output_type": "execute_result"
    }
   ],
   "source": [
    "LOOs(scaled_spam)"
   ]
  },
  {
   "cell_type": "code",
   "execution_count": 8,
   "metadata": {},
   "outputs": [
    {
     "data": {
      "text/plain": [
       "<matplotlib.axes._subplots.AxesSubplot at 0x7f45bbba8860>"
      ]
     },
     "execution_count": 8,
     "metadata": {},
     "output_type": "execute_result"
    },
    {
     "data": {
      "image/png": "[encoded data removed]",
      "text/plain": [
       "<Figure size 432x288 with 1 Axes>"
      ]
     },
     "metadata": {
      "needs_background": "light"
     },
     "output_type": "display_data"
    }
   ],
   "source": [
    "lrc = LOO_radius(scaled_cancer, radii = np.linspace(0, 1, num=50))\n",
    "lrc.plot.line(x='R', y='LOO(R)')"
   ]
  },
  {
   "cell_type": "code",
   "execution_count": 9,
   "metadata": {},
   "outputs": [
    {
     "data": {
      "text/plain": [
       "<matplotlib.axes._subplots.AxesSubplot at 0x7f45bbe13908>"
      ]
     },
     "execution_count": 9,
     "metadata": {},
     "output_type": "execute_result"
    },
    {
     "data": {
      "image/png": "[encoded data removed]",
      "text/plain": [
       "<Figure size 432x288 with 1 Axes>"
      ]
     },
     "metadata": {
      "needs_background": "light"
     },
     "output_type": "display_data"
    }
   ],
   "source": [
    "lrs = LOO_radius(scaled_spam, radii = np.linspace(0, 1, num=50))\n",
    "lrs.plot.line(x='R', y='LOO(R)')"
   ]
  }
 ],
 "metadata": {
  "kernelspec": {
   "display_name": "Python 3",
   "language": "python",
   "name": "python3"
  },
  "language_info": {
   "codemirror_mode": {
    "name": "ipython",
    "version": 3
   },
   "file_extension": ".py",
   "mimetype": "text/x-python",
   "name": "python",
   "nbconvert_exporter": "python",
   "pygments_lexer": "ipython3",
   "version": "3.7.2"
  }
 },
 "nbformat": 4,
 "nbformat_minor": 2
}
