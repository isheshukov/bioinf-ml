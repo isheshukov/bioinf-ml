{
 "cells": [
  {
   "cell_type": "code",
   "execution_count": 17,
   "metadata": {},
   "outputs": [],
   "source": [
    "import numpy as np\n",
    "import pandas as pd\n",
    "import matplotlib.pyplot as plt\n",
    "from sklearn.metrics import roc_auc_score, roc_curve, auc, confusion_matrix\n",
    "from sklearn.utils import resample\n",
    "from sklearn.model_selection import train_test_split\n",
    "from treelib import Node, Tree\n",
    "from copy import deepcopy\n",
    "import warnings\n",
    "from itertools import product\n",
    "from tqdm import tqdm\n",
    "import scipy\n",
    "warnings.filterwarnings('ignore')"
   ]
  },
  {
   "cell_type": "markdown",
   "metadata": {},
   "source": [
    "1. (5) Реализуйте алгоритм Random Forest с критерием Джини с выбором класса по сумме (или среднему) вероятностей в листьях. Постройте ROC кривую (и выведите AUC и accuracy) для полученной вероятности для 20 деревьев глубины 3."
   ]
  },
  {
   "cell_type": "code",
   "execution_count": 2,
   "metadata": {},
   "outputs": [],
   "source": [
    "class LERule(object):\n",
    "    def __init__(self, feature, val):\n",
    "        self.feature = feature\n",
    "        self.val = val\n",
    "        \n",
    "    def __repr__(self):\n",
    "        return (f\"{self.feature} >= {self.val:.2f}\")\n",
    "    \n",
    "    def apply(self, data):\n",
    "        crit = data[self.feature] >= self.val\n",
    "        return data[~crit].index, data[crit].index\n",
    "\n",
    "class NodeData(object):\n",
    "    def __init__(self, samples):\n",
    "        self.samples_idx = samples\n",
    "        self.rule = True\n",
    "        self.label = None\n",
    "        self.inf_gain = None\n",
    "        \n",
    "def inf_gain(data, label, unique_labels, rules, node):\n",
    "    data_size = len(data.index)\n",
    "    def gini(idx):\n",
    "        try:\n",
    "            return sum([len(data.loc[idx][label == l].index) * len(data.loc[idx][label != l].index) for l in unique_labels]) / len(idx)**2\n",
    "        except ZeroDivisionError:\n",
    "            return 0\n",
    "\n",
    "    idx = node.data.samples_idx\n",
    "    idx_len = len(idx)\n",
    "\n",
    "    gains = []\n",
    "\n",
    "    for rule in rules:\n",
    "        left_idx, right_idx = rule.apply(data.loc[idx])\n",
    "        gains.append((idx_len*gini(idx) - len(left_idx)*gini(left_idx) - len(right_idx)*gini(right_idx))/data_size)\n",
    "\n",
    "    best_rule_idx = np.argmax(gains)\n",
    "    return (rules[best_rule_idx], gains[best_rule_idx])\n",
    "\n",
    "def prob3(data, validate, label, unique_labels, depth=2):   \n",
    "    n = 0\n",
    "    tree = Tree()\n",
    "    tree.create_node(\"root\", n, data=NodeData(data.index))\n",
    "    \n",
    "    while tree.depth() <= depth:\n",
    "        if all([leaf.data.label is not None for leaf in tree.leaves()]):\n",
    "            break\n",
    "            \n",
    "        for node in tree.leaves():\n",
    "            if node.data.label is not None:\n",
    "                continue\n",
    "\n",
    "            node_labels = label.loc[node.data.samples_idx].unique()\n",
    "            if len(node_labels) == 1:\n",
    "                node.tag += f\", class: {node_labels[0]}\"\n",
    "                node.data.label = node_labels[0]\n",
    "                continue\n",
    "\n",
    "            rules = []\n",
    "            for name, column in data.loc[node.data.samples_idx].sample(n=int(np.sqrt(data.shape[1])), axis=1).iteritems():\n",
    "                tholds = np.linspace(np.min(column), np.max(column), 10)\n",
    "                rules += [LERule(name, t) for t in tholds]\n",
    "\n",
    "            best_rule, node.data.inf_gain = inf_gain(data, label, unique_labels, rules, node)\n",
    "            node.data.rule = best_rule\n",
    "\n",
    "            left_idx, right_idx = best_rule.apply(data.loc[node.data.samples_idx])\n",
    "            if len(left_idx) == 0 or len(right_idx) == 0:\n",
    "                df = label.loc[node.data.samples_idx]\n",
    "                mode = df.mode()[0]\n",
    "                node.tag += f\", class: {mode}\"\n",
    "                node.data.label = mode\n",
    "            else:\n",
    "                tree.create_node(f\"otherwise, size={len(left_idx)}, id={2*node.identifier+1}\", 2*node.identifier+1, data=NodeData(left_idx), parent=node.identifier)\n",
    "                tree.create_node(f\"{best_rule}, size={len(right_idx)}, id={2*node.identifier+2}\", 2*node.identifier+2, data=NodeData(right_idx), parent=node.identifier)\n",
    "\n",
    "        treeD = deepcopy(tree)\n",
    "        for node in treeD.leaves():\n",
    "            if node.data.label is None:\n",
    "                if len(node.data.samples_idx):\n",
    "                    df = label.loc[node.data.samples_idx]\n",
    "                    mode = df.mode()[0]\n",
    "                    node.tag += f\", class: {mode}\"\n",
    "                    node.data.label = mode\n",
    "                else:\n",
    "                    treeD.remove_node(node.identifier)\n",
    "        #print(tree.depth())\n",
    "\n",
    "    #print('next')\n",
    "    return treeD\n",
    "\n",
    "def prob1(train, validate, labels, unique_labels=[0,1], num_of_trees=20, depth=2):\n",
    "    bstraps = [resample(train, labels.loc[train.index], n_samples=len(train)) for _ in range(num_of_trees)]\n",
    "    ensemble = [prob3(X[~X.index.duplicated()], validate, y[~X.index.duplicated()], unique_labels, depth=depth) for (X, y) in tqdm(bstraps)]\n",
    "    return ensemble"
   ]
  },
  {
   "cell_type": "code",
   "execution_count": 3,
   "metadata": {},
   "outputs": [],
   "source": [
    "cancer = pd.read_csv(\"../data/cancer.csv\")\n",
    "cancer_label = cancer[\"label\"]\n",
    "cancer = cancer.drop(\"label\", axis=1)\n",
    "\n",
    "cancer_train, cancer_validate = train_test_split(cancer, test_size=0.2)\n"
   ]
  },
  {
   "cell_type": "code",
   "execution_count": 4,
   "metadata": {},
   "outputs": [
    {
     "name": "stderr",
     "output_type": "stream",
     "text": [
      "100%|██████████| 20/20 [02:46<00:00,  7.51s/it]\n"
     ]
    }
   ],
   "source": [
    "ensemble_cancer = prob1(cancer_train, cancer_validate, cancer_label, unique_labels=['B', 'M'])"
   ]
  },
  {
   "cell_type": "code",
   "execution_count": 5,
   "metadata": {},
   "outputs": [],
   "source": [
    "spam = pd.read_csv(\"../data/spam.csv\")\n",
    "spam_label = spam[\"label\"]\n",
    "spam = spam.drop(\"label\", axis=1)\n",
    "\n",
    "spam_train, spam_validate = train_test_split(spam, test_size=0.2)\n"
   ]
  },
  {
   "cell_type": "code",
   "execution_count": 6,
   "metadata": {},
   "outputs": [
    {
     "name": "stderr",
     "output_type": "stream",
     "text": [
      "100%|██████████| 20/20 [04:32<00:00, 13.67s/it]\n"
     ]
    }
   ],
   "source": [
    "ensemble_spam = prob1(spam_train, spam_validate, spam_label, unique_labels=[0, 1])"
   ]
  },
  {
   "cell_type": "code",
   "execution_count": 7,
   "metadata": {},
   "outputs": [],
   "source": [
    "def prob4(ensemble, train, label, validate, unique_labels = [0, 1]):\n",
    "    def fun(row):\n",
    "        prob = []\n",
    "        labels = []\n",
    "        for tree in ensemble:\n",
    "            current = tree.root\n",
    "            while not tree[current].is_leaf():\n",
    "                feature, value = tree[current].data.rule.feature, tree[current].data.rule.val\n",
    "                if (row[feature] >= value):\n",
    "                    current = 2*current + 2\n",
    "                else:\n",
    "                    current = 2*current + 1\n",
    "            prob.append(np.sum(label.loc[tree[current].data.samples_idx] == unique_labels[1]) / len(tree[current].data.samples_idx))\n",
    "            labels.append(tree[current].data.label)\n",
    "            \n",
    "        return (np.mean(prob), scipy.stats.mode(labels).mode[0])\n",
    "            \n",
    "    pr = validate.apply(fun, axis=1)\n",
    "    pr = pr.apply(pd.Series)\n",
    "    pr, classes = pr[0], pr[1]\n",
    "    \n",
    "    tn, fp, fn, tp = confusion_matrix(classes, label.loc[validate.index]).ravel()\n",
    "\n",
    "    auc_ = roc_auc_score(label.loc[validate.index].values, pr)\n",
    "    fpr, tpr, _ = roc_curve(label.loc[validate.index].values, pr, pos_label=unique_labels[1])\n",
    "    print(f\"ROC-AUC = {auc_}\")\n",
    "    print(f\"Accuracy {(tp+tn)/(tn + fp + fn + tp)}\")\n",
    "    plt.plot(fpr, tpr)"
   ]
  },
  {
   "cell_type": "code",
   "execution_count": 8,
   "metadata": {},
   "outputs": [
    {
     "name": "stdout",
     "output_type": "stream",
     "text": [
      "ROC-AUC = 0.9931818181818182\n",
      "Accuracy 0.956140350877193\n"
     ]
    },
    {
     "data": {
      "image/png": "[encoded data removed]",
      "text/plain": [
       "<Figure size 432x288 with 1 Axes>"
      ]
     },
     "metadata": {
      "needs_background": "light"
     },
     "output_type": "display_data"
    }
   ],
   "source": [
    "prob4(ensemble_cancer, cancer_train, cancer_label, cancer_validate, unique_labels = ['B', 'M'])"
   ]
  },
  {
   "cell_type": "code",
   "execution_count": 9,
   "metadata": {},
   "outputs": [
    {
     "name": "stdout",
     "output_type": "stream",
     "text": [
      "ROC-AUC = 0.9278279328518446\n",
      "Accuracy 0.7741585233441911\n"
     ]
    },
    {
     "data": {
      "image/png": "[encoded data removed]",
      "text/plain": [
       "<Figure size 432x288 with 1 Axes>"
      ]
     },
     "metadata": {
      "needs_background": "light"
     },
     "output_type": "display_data"
    }
   ],
   "source": [
    "prob4(ensemble_spam, spam_train, spam_label, spam_validate)"
   ]
  },
  {
   "cell_type": "markdown",
   "metadata": {},
   "source": [
    "2. (4) Оптимизируйте по AUC на кроссвалидации (размер валидационной выборки - 20%) параметры Random Forest: максимальную глубину деревьев из [2, 3, 5, 7, 10], количество деревьев из [5, 10, 20, 30, 50, 100]. Постройте ROC кривую (и выведите AUC и accuracy) для лучшего варианта."
   ]
  },
  {
   "cell_type": "code",
   "execution_count": 10,
   "metadata": {},
   "outputs": [
    {
     "name": "stderr",
     "output_type": "stream",
     "text": [
      "100%|██████████| 100/100 [36:38<00:00, 17.07s/it]\n"
     ]
    }
   ],
   "source": [
    "big_ensemble_cancer = prob1(cancer_train, cancer_validate, cancer_label, unique_labels=['B', 'M'], num_of_trees=100, depth=9)"
   ]
  },
  {
   "cell_type": "code",
   "execution_count": null,
   "metadata": {},
   "outputs": [],
   "source": [
    "big_ensemble_spam = prob1(spam_train, spam_validate, spam_label, unique_labels=[0, 1], num_of_trees=100, depth=9)"
   ]
  },
  {
   "cell_type": "code",
   "execution_count": 35,
   "metadata": {},
   "outputs": [],
   "source": [
    "def prob2(ensemble, train, label, validate, unique_labels=[0, 1]):\n",
    "    \n",
    "    def fun(row):\n",
    "            prob = []\n",
    "            labels = []\n",
    "            for tree in current_ensemble:\n",
    "                current = tree.root\n",
    "                while not tree[current].is_leaf():\n",
    "                    feature, value = tree[current].data.rule.feature, tree[current].data.rule.val\n",
    "                    if (row[feature] >= value):\n",
    "                        current = 2*current + 2\n",
    "                    else:\n",
    "                        current = 2*current + 1\n",
    "                    \n",
    "                    if (tree.depth(current)) >= depth:\n",
    "                        break\n",
    "                        \n",
    "                prob.append(np.sum(label.loc[tree[current].data.samples_idx] == unique_labels[1]) / len(tree[current].data.samples_idx))\n",
    "                labels.append(scipy.stats.mode(label[tree[current].data.samples_idx]).mode[0])\n",
    "            #print(labels)\n",
    "            return (np.mean(prob), scipy.stats.mode(labels).mode[0])\n",
    "    \n",
    "    depths = [2,3,5,7,10]\n",
    "    tree_count = [5,10,20,30,50,100]\n",
    "    \n",
    "    best_auc = 0\n",
    "    best_fpr = 0\n",
    "    best_tpr = 0\n",
    "    best_hparams = None\n",
    "    best_accuracy = 0\n",
    "    current_ensemble = None\n",
    "    \n",
    "    for (depth, cnt) in tqdm(product(depths, tree_count)):\n",
    "        #current_ensemble = np.random.choice(ensemble, size=cnt, replace=False)\n",
    "        current_ensemble = ensemble[0:cnt]\n",
    "        #print(current_ensemble)\n",
    "        pr = validate.apply(fun, axis=1)\n",
    "        pr = pr.apply(pd.Series)\n",
    "        pr, classes = pr[0], pr[1]\n",
    "\n",
    "        tn, fp, fn, tp = confusion_matrix(classes, label.loc[validate.index]).ravel()\n",
    "        accuracy = (tp+tn)/(tn + fp + fn + tp)\n",
    "        auc_ = roc_auc_score(label.loc[validate.index].values, pr)\n",
    "        fpr, tpr, _ = roc_curve(label.loc[validate.index].values, pr, pos_label=unique_labels[1])\n",
    "        \n",
    "        if auc_ > best_auc:\n",
    "            best_auc = auc_\n",
    "            best_fpr = fpr\n",
    "            best_tpr = tpr\n",
    "            best_hparams = (depth, cnt)\n",
    "            best_accuracy = accuracy\n",
    "        \n",
    "    print(f\"Best hyperparameters: depth of tree = {best_hparams[0]}, number of trees = {best_hparams[1]}\")    \n",
    "    print(f\"Best ROC-AUC = {best_auc}\")\n",
    "    print(f\"Best accuracy = {best_accuracy}\")\n",
    "    plt.plot(best_fpr, best_tpr)"
   ]
  },
  {
   "cell_type": "code",
   "execution_count": null,
   "metadata": {},
   "outputs": [
    {
     "name": "stderr",
     "output_type": "stream",
     "text": [
      "27it [02:58,  5.56s/it]"
     ]
    }
   ],
   "source": [
    "prob2(big_ensemble_cancer, cancer_train, cancer_label, cancer_validate, unique_labels = ['B', 'M'])"
   ]
  },
  {
   "cell_type": "code",
   "execution_count": 26,
   "metadata": {},
   "outputs": [
    {
     "name": "stdout",
     "output_type": "stream",
     "text": [
      "root\n",
      "├── 21 >= 16.83, size=95, id=2\n",
      "│   ├── 2 >= 15.20, size=91, id=6\n",
      "│   │   ├── 7 >= 0.07, size=83, id=14, class: M\n",
      "│   │   └── otherwise, size=8, id=13\n",
      "│   │       ├── 2 >= 18.84, size=6, id=28, class: M\n",
      "│   │       └── otherwise, size=2, id=27, class: B\n",
      "│   └── otherwise, size=4, id=5\n",
      "│       ├── 11 >= 0.26, size=1, id=12, class: M\n",
      "│       └── otherwise, size=3, id=11, class: B\n",
      "└── otherwise, size=184, id=1\n",
      "    ├── 28 >= 0.17, size=6, id=4\n",
      "    │   ├── 21 >= 10.98, size=5, id=10, class: M\n",
      "    │   └── otherwise, size=1, id=9, class: B\n",
      "    └── otherwise, size=178, id=3\n",
      "        ├── 11 >= 0.85, size=1, id=8, class: M\n",
      "        └── otherwise, size=177, id=7\n",
      "            ├── 3 >= 87.53, size=40, id=16\n",
      "            │   ├── 7 >= 0.11, size=5, id=34\n",
      "            │   │   ├── 5 >= 0.08, size=3, id=70, class: M\n",
      "            │   │   └── otherwise, size=2, id=69, class: B\n",
      "            │   └── otherwise, size=35, id=33\n",
      "            │       ├── 30 >= 0.10, size=1, id=68, class: M\n",
      "            │       └── otherwise, size=34, id=67, class: B\n",
      "            └── otherwise, size=137, id=15\n",
      "                ├── 4 >= 530.31, size=14, id=32\n",
      "                │   ├── 20 >= 0.00, size=10, id=66, class: B\n",
      "                │   └── otherwise, size=4, id=65\n",
      "                │       ├── 29 >= 0.26, size=1, id=132, class: M\n",
      "                │       └── otherwise, size=3, id=131, class: B\n",
      "                └── otherwise, size=123, id=31, class: B\n",
      "\n"
     ]
    }
   ],
   "source": [
    "prob2(big_ensemble_spam, spam_train, spam_label, spam_validate, unique_labels = [0, 1])"
   ]
  },
  {
   "cell_type": "code",
   "execution_count": null,
   "metadata": {},
   "outputs": [],
   "source": []
  }
 ],
 "metadata": {
  "kernelspec": {
   "display_name": "Python 3",
   "language": "python",
   "name": "python3"
  },
  "language_info": {
   "codemirror_mode": {
    "name": "ipython",
    "version": 3
   },
   "file_extension": ".py",
   "mimetype": "text/x-python",
   "name": "python",
   "nbconvert_exporter": "python",
   "pygments_lexer": "ipython3",
   "version": "3.6.8"
  }
 },
 "nbformat": 4,
 "nbformat_minor": 2
}
