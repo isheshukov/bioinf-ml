{
 "cells": [
  {
   "cell_type": "code",
   "execution_count": 539,
   "metadata": {},
   "outputs": [],
   "source": [
    "import numpy as np\n",
    "import pandas as pd\n",
    "import matplotlib.pyplot as plt\n",
    "from sklearn.metrics import accuracy_score\n",
    "from sklearn.model_selection import train_test_split\n",
    "from sklearn.preprocessing import MinMaxScaler, StandardScaler"
   ]
  },
  {
   "cell_type": "markdown",
   "metadata": {},
   "source": [
    "1.(4) Реализуйте алгоритм логистической регрессии со стохастическим градиентным спуском. Градиентный спуск нужно делать пока уменьшается ошибка на test датасете. Выведите график зависимости точности от итерации на датасетах cancer.csv и spam.csv."
   ]
  },
  {
   "cell_type": "code",
   "execution_count": 540,
   "metadata": {},
   "outputs": [],
   "source": [
    "def load_reg_data(name):\n",
    "    data = pd.read_csv(\"../data/\" + name + \".csv\")\n",
    "    if name == \"cancer\":\n",
    "        mapping = {'M': 1, 'B': -1}\n",
    "    else:\n",
    "        mapping = {0: -1}\n",
    "    \n",
    "    X, y = data.drop(\"label\", axis=1).values, data.replace({'label': mapping})[\"label\"].values\n",
    "    scaler = StandardScaler()\n",
    "    X = scaler.fit_transform(X)\n",
    "    X_ = np.c_[np.ones(X.shape[0]), X]\n",
    "\n",
    "    return train_test_split(X_, y)"
   ]
  },
  {
   "cell_type": "code",
   "execution_count": 584,
   "metadata": {},
   "outputs": [],
   "source": [
    "def regress(train_X, test_X, train_y, test_y, batch_size=15, learning_rate=0.5):\n",
    "    accuracy_prev = -np.inf\n",
    "    w = np.random.rand(train_X.shape[1])\n",
    "    iters = 0 \n",
    "    accuracies = []\n",
    "    \n",
    "    while True:\n",
    "        batch_idx = np.random.choice(train_X.shape[1], batch_size, replace=False)\n",
    "        ybatch = train_y[batch_idx]\n",
    "        Xbatch = train_X[batch_idx, :]\n",
    "\n",
    "        a = -np.mean((Xbatch.T * ybatch) / (1 + np.exp(((Xbatch * w).T * ybatch))), axis=1)\n",
    "        w -= learning_rate * a\n",
    "\n",
    "        h = np.sign(np.sum(np.tile(w, (test_X.shape[0], 1)) * test_X, axis=1))\n",
    "        accuracy_cur = accuracy_score(test_y, h)\n",
    "        \n",
    "        if accuracy_cur >= accuracy_prev:\n",
    "            accuracy_prev = accuracy_cur\n",
    "            accuracies.append(accuracy_prev)\n",
    "            iters += 1\n",
    "        else:\n",
    "            print(\"Accuracy on test: \" + str(accuracy_prev) + \" with \" + str(iters) + \" iterations\")\n",
    "            plt.plot(accuracies, '-')\n",
    "            plt.xlabel('iteration')\n",
    "            plt.ylabel('accuracy')\n",
    "            return w"
   ]
  },
  {
   "cell_type": "code",
   "execution_count": 585,
   "metadata": {},
   "outputs": [
    {
     "name": "stdout",
     "output_type": "stream",
     "text": [
      "Accuracy on test: 0.9230769230769231 with 44 iterations\n"
     ]
    },
    {
     "data": {
      "text/plain": [
       "array([-0.64043488,  1.98879011,  1.20727574,  2.05582955,  2.10409714,\n",
       "        1.2834084 ,  1.51353058,  1.82698364,  2.56251747,  1.14031063,\n",
       "        0.44580539,  1.9929295 ,  0.66914959,  1.74543017,  2.52839742,\n",
       "        0.58430532,  0.96546302,  1.03217108,  1.51480113, -0.24461163,\n",
       "        0.94264383,  2.53886487,  1.55379509,  2.58948393,  2.65922478,\n",
       "        1.6658703 ,  2.26931503,  2.15655469,  2.53248746,  1.63243929,\n",
       "        1.7693797 ])"
      ]
     },
     "execution_count": 585,
     "metadata": {},
     "output_type": "execute_result"
    },
    {
     "data": {
      "image/png": "[encoded data removed]",
      "text/plain": [
       "<Figure size 432x288 with 1 Axes>"
      ]
     },
     "metadata": {
      "needs_background": "light"
     },
     "output_type": "display_data"
    }
   ],
   "source": [
    "regress(*load_reg_data(\"cancer\"))"
   ]
  },
  {
   "cell_type": "code",
   "execution_count": 586,
   "metadata": {},
   "outputs": [
    {
     "name": "stdout",
     "output_type": "stream",
     "text": [
      "Accuracy on test: 0.8514335360556038 with 24 iterations\n"
     ]
    },
    {
     "data": {
      "text/plain": [
       "array([-0.42123691,  0.27316023, -0.04555728,  0.44359491,  0.99864199,\n",
       "        0.71649835,  0.94717007,  0.89628347,  1.17156664,  0.82904097,\n",
       "        0.52542729,  0.98784382,  0.05019721,  0.59794001, -0.15356162,\n",
       "        0.81310347,  0.7006564 ,  0.43308384,  0.25414012,  0.53038813,\n",
       "        0.26132965,  0.91741859,  1.07649881,  0.61644314,  0.70284307,\n",
       "       -0.21793673,  0.00561646, -0.22809117, -0.15353229,  0.00440647,\n",
       "       -0.27205301,  0.52263578,  0.43148206, -0.21755572,  0.52817273,\n",
       "        0.36731337,  0.9475494 , -0.37064186,  0.51376195,  0.2762022 ,\n",
       "        0.89738943, -0.13526977,  0.25197156,  0.53529291, -0.19730183,\n",
       "       -0.1384757 , -0.21363635,  0.4428432 , -0.24285069,  0.28961756,\n",
       "       -0.0411372 , -0.0120317 ,  0.85158272,  0.92068982,  0.83000978,\n",
       "        0.71519126,  1.09726432,  1.03012343])"
      ]
     },
     "execution_count": 586,
     "metadata": {},
     "output_type": "execute_result"
    },
    {
     "data": {
      "image/png": "[encoded data removed]",
      "text/plain": [
       "<Figure size 432x288 with 1 Axes>"
      ]
     },
     "metadata": {
      "needs_background": "light"
     },
     "output_type": "display_data"
    }
   ],
   "source": [
    "regress(*load_reg_data(\"spam\"), batch_size=20, learning_rate=0.2)"
   ]
  },
  {
   "cell_type": "markdown",
   "metadata": {},
   "source": [
    "2.(2) Преобразуйте датасеты mnist и notMNIST так, чтобы каждая точка представляла собой квадратную матрицу."
   ]
  },
  {
   "cell_type": "code",
   "execution_count": null,
   "metadata": {},
   "outputs": [],
   "source": []
  }
 ],
 "metadata": {
  "kernelspec": {
   "display_name": "Python 3",
   "language": "python",
   "name": "python3"
  },
  "language_info": {
   "codemirror_mode": {
    "name": "ipython",
    "version": 3
   },
   "file_extension": ".py",
   "mimetype": "text/x-python",
   "name": "python",
   "nbconvert_exporter": "python",
   "pygments_lexer": "ipython3",
   "version": "3.5.2"
  }
 },
 "nbformat": 4,
 "nbformat_minor": 2
}
