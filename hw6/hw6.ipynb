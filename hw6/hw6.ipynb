{
 "cells": [
  {
   "cell_type": "code",
   "execution_count": 8,
   "metadata": {},
   "outputs": [],
   "source": [
    "import numpy as np\n",
    "import pandas as pd\n",
    "import matplotlib.pyplot as plt\n",
    "from sklearn.metrics import accuracy_score\n",
    "from sklearn.model_selection import train_test_split\n",
    "from sklearn.preprocessing import MinMaxScaler, StandardScaler\n",
    "import tarfile\n",
    "from tensorflow.keras import Sequential, layers, utils"
   ]
  },
  {
   "cell_type": "markdown",
   "metadata": {},
   "source": [
    "### 1.(4) Реализуйте алгоритм логистической регрессии со стохастическим градиентным спуском. Градиентный спуск нужно делать пока уменьшается ошибка на test датасете. Выведите график зависимости точности от итерации на датасетах cancer.csv и spam.csv."
   ]
  },
  {
   "cell_type": "code",
   "execution_count": 2,
   "metadata": {},
   "outputs": [],
   "source": [
    "def load_reg_data(name):\n",
    "    data = pd.read_csv(\"../data/\" + name + \".csv\")\n",
    "    if name == \"cancer\":\n",
    "        mapping = {'M': 1, 'B': -1}\n",
    "    else:\n",
    "        mapping = {0: -1}\n",
    "    \n",
    "    X, y = data.drop(\"label\", axis=1).values, data.replace({'label': mapping})[\"label\"].values\n",
    "    scaler = StandardScaler()\n",
    "    X = scaler.fit_transform(X)\n",
    "    X_ = np.c_[np.ones(X.shape[0]), X]\n",
    "\n",
    "    return train_test_split(X_, y)"
   ]
  },
  {
   "cell_type": "code",
   "execution_count": 3,
   "metadata": {},
   "outputs": [],
   "source": [
    "def regress(train_X, test_X, train_y, test_y, batch_size=15, learning_rate=0.5):\n",
    "    accuracy_prev = -np.inf\n",
    "    w = np.random.rand(train_X.shape[1])\n",
    "    iters = 0 \n",
    "    accuracies = []\n",
    "    \n",
    "    while True:\n",
    "        batch_idx = np.random.choice(train_X.shape[1], batch_size, replace=False)\n",
    "        ybatch = train_y[batch_idx]\n",
    "        Xbatch = train_X[batch_idx, :]\n",
    "\n",
    "        a = -np.mean((Xbatch.T * ybatch) / (1 + np.exp(((Xbatch * w).T * ybatch))), axis=1)\n",
    "        w -= learning_rate * a\n",
    "\n",
    "        h = np.sign(np.sum(np.tile(w, (test_X.shape[0], 1)) * test_X, axis=1))\n",
    "        accuracy_cur = accuracy_score(test_y, h)\n",
    "        \n",
    "        if accuracy_cur >= accuracy_prev:\n",
    "            accuracy_prev = accuracy_cur\n",
    "            accuracies.append(accuracy_prev)\n",
    "            iters += 1\n",
    "        else:\n",
    "            print(\"Accuracy on test: \" + str(accuracy_prev) + \" with \" + str(iters) + \" iterations\")\n",
    "            plt.plot(accuracies, '-')\n",
    "            plt.xlabel('iteration')\n",
    "            plt.ylabel('accuracy')\n",
    "            return w"
   ]
  },
  {
   "cell_type": "code",
   "execution_count": 4,
   "metadata": {},
   "outputs": [
    {
     "name": "stdout",
     "output_type": "stream",
     "text": [
      "Accuracy on test: 0.9230769230769231 with 10 iterations\n"
     ]
    },
    {
     "data": {
      "text/plain": [
       "array([-0.59237353,  1.30131884,  0.92977996,  1.49040616,  1.54275742,\n",
       "        0.52985416,  1.02541851,  1.35700648,  1.43072082,  0.42767164,\n",
       "        0.19144801,  1.57796919,  0.86421228,  1.32165931,  1.25857548,\n",
       "        0.13826199,  1.11997068,  1.11403634,  1.48454661,  0.45190322,\n",
       "        0.91094844,  1.36746101,  0.98170398,  1.52333488,  1.21864185,\n",
       "        0.28950124,  0.78446546,  1.17817766,  1.56022324,  0.49385895,\n",
       "        0.69243813])"
      ]
     },
     "execution_count": 4,
     "metadata": {},
     "output_type": "execute_result"
    },
    {
     "data": {
      "image/png": "[encoded data removed]",
      "text/plain": [
       "<Figure size 432x288 with 1 Axes>"
      ]
     },
     "metadata": {
      "needs_background": "light"
     },
     "output_type": "display_data"
    }
   ],
   "source": [
    "regress(*load_reg_data(\"cancer\"))"
   ]
  },
  {
   "cell_type": "code",
   "execution_count": 6,
   "metadata": {},
   "outputs": [
    {
     "name": "stdout",
     "output_type": "stream",
     "text": [
      "Accuracy on test: 0.8323197219808862 with 5 iterations\n"
     ]
    },
    {
     "data": {
      "text/plain": [
       "array([-0.58475639,  0.46531336,  0.38836946,  0.72611519,  1.0226096 ,\n",
       "        0.89562348,  1.15218369,  1.02691699,  0.9555424 ,  0.76221275,\n",
       "        0.09012988,  0.61178546,  0.15501289,  0.84775457,  0.56797653,\n",
       "        0.30844068,  0.99931578,  1.18976085, -0.01500484,  0.78044302,\n",
       "        0.88800759,  0.99344176,  0.76821038,  0.73937191,  1.00426716,\n",
       "       -0.02600275,  0.28182596,  0.26849704,  0.26189283,  0.46715248,\n",
       "        0.14757868, -0.24955176,  0.79754534,  0.53186462,  0.91864703,\n",
       "        0.00991934, -0.30624424, -0.32655827,  0.96416976, -0.42047515,\n",
       "        0.28283805, -0.40584276, -0.00750631,  0.11217026, -0.82652048,\n",
       "       -1.00626212,  0.10263776,  0.51682292,  0.28980429, -0.08339771,\n",
       "        0.67666496,  0.60895546, -0.25375537,  0.81237445,  1.04739256,\n",
       "        0.81613225,  0.69689305,  0.43627411])"
      ]
     },
     "execution_count": 6,
     "metadata": {},
     "output_type": "execute_result"
    },
    {
     "data": {
      "image/png": "[encoded data removed]",
      "text/plain": [
       "<Figure size 432x288 with 1 Axes>"
      ]
     },
     "metadata": {
      "needs_background": "light"
     },
     "output_type": "display_data"
    }
   ],
   "source": [
    "regress(*load_reg_data(\"spam\"), batch_size=10, learning_rate=0.8)"
   ]
  },
  {
   "cell_type": "markdown",
   "metadata": {},
   "source": [
    "### 2.(2) Преобразуйте датасеты mnist и notMNIST так, чтобы каждая точка представляла собой квадратную матрицу."
   ]
  },
  {
   "cell_type": "code",
   "execution_count": 52,
   "metadata": {},
   "outputs": [
    {
     "data": {
      "image/png": "[encoded data removed]",
      "text/plain": [
       "<Figure size 432x288 with 1 Axes>"
      ]
     },
     "metadata": {
      "needs_background": "light"
     },
     "output_type": "display_data"
    }
   ],
   "source": [
    "mnist_df = pd.read_csv(\"../data/mnist.csv\") \n",
    "mn_X = mnist_df.drop(\"label\", axis=1).values.reshape(mnist_df.shape[0], 28, 28, 1)\n",
    "mn_y = mnist_df[\"label\"].values\n",
    "mn_y = utils.to_categorical(mn_y, 10)\n",
    "mn_train_X, mn_test_X, mn_train_y, mn_test_y = train_test_split(mn_X, mn_y)\n",
    "\n",
    "plt.imshow(mn_X[0,:,:,0])\n",
    "plt.show()"
   ]
  },
  {
   "cell_type": "code",
   "execution_count": 47,
   "metadata": {},
   "outputs": [
    {
     "data": {
      "image/png": "[encoded data removed]",
      "text/plain": [
       "<Figure size 432x288 with 1 Axes>"
      ]
     },
     "metadata": {
      "needs_background": "light"
     },
     "output_type": "display_data"
    }
   ],
   "source": [
    "nmn_X = []\n",
    "nmn_y = []\n",
    "with tarfile.open(\"../data/notMNIST.tar.gz\", mode='r') as notmnist:\n",
    "    for m in notmnist.getmembers():\n",
    "        if m.name.endswith(\"png\"):\n",
    "            try:\n",
    "                nmn_X.append(plt.imread(notmnist.extractfile(m)))\n",
    "                nmn_y.append(ord(m.name.split(\"/\")[1]) - ord('A'))\n",
    "            except OSError:\n",
    "                continue\n",
    "    \n",
    "nmn_X = np.array(nmn_X)\n",
    "nmn_X = nmn_X.reshape(nmn_X.shape[0], 28, 28, 1) / 255\n",
    "nmn_y = np.array(nmn_y)\n",
    "nmn_y = utils.to_categorical(nmn_y)\n",
    "\n",
    "nmn_train_X, nmn_test_X, nmn_train_y, nmn_test_y = train_test_split(nmn_X, nmn_y)\n",
    "\n",
    "plt.imshow(nmn_X[0,:,:,0])\n",
    "plt.show()"
   ]
  },
  {
   "cell_type": "markdown",
   "metadata": {},
   "source": [
    "### 3.(4) Создайте сеть из трех сверточных слоев по 8 сверток 3х3 и двух полносвязных слоев по 64 нейрона. Обучите сеть на датасете mnist с тремя разными функциями активации в слоях (sigmoid, tanh, ReLU)."
   ]
  },
  {
   "cell_type": "code",
   "execution_count": 55,
   "metadata": {},
   "outputs": [
    {
     "name": "stdout",
     "output_type": "stream",
     "text": [
      "_________________________________________________________________\n",
      "Layer (type)                 Output Shape              Param #   \n",
      "=================================================================\n",
      "conv2d_54 (Conv2D)           (None, 26, 26, 8)         80        \n",
      "_________________________________________________________________\n",
      "conv2d_55 (Conv2D)           (None, 24, 24, 8)         584       \n",
      "_________________________________________________________________\n",
      "conv2d_56 (Conv2D)           (None, 22, 22, 8)         584       \n",
      "_________________________________________________________________\n",
      "flatten_17 (Flatten)         (None, 3872)              0         \n",
      "_________________________________________________________________\n",
      "dense_50 (Dense)             (None, 64)                247872    \n",
      "_________________________________________________________________\n",
      "dense_51 (Dense)             (None, 64)                4160      \n",
      "_________________________________________________________________\n",
      "dense_52 (Dense)             (None, 10)                650       \n",
      "=================================================================\n",
      "Total params: 253,930\n",
      "Trainable params: 253,930\n",
      "Non-trainable params: 0\n",
      "_________________________________________________________________\n"
     ]
    }
   ],
   "source": [
    "model = Sequential()\n",
    "model.add(layers.Conv2D(8, (3, 3), activation='sigmoid', input_shape=(28, 28, 1)))\n",
    "model.add(layers.Conv2D(8, (3, 3), activation='tanh'))\n",
    "model.add(layers.Conv2D(8, (3, 3), activation='relu'))\n",
    "model.add(layers.Flatten())\n",
    "model.add(layers.Dense(64, activation='sigmoid'))\n",
    "model.add(layers.Dense(64, activation='sigmoid'))\n",
    "model.add(layers.Dense(10, activation='sigmoid'))\n",
    "model.summary()"
   ]
  },
  {
   "cell_type": "code",
   "execution_count": 56,
   "metadata": {},
   "outputs": [
    {
     "name": "stdout",
     "output_type": "stream",
     "text": [
      "Epoch 1/20\n",
      "7500/7500 [==============================] - 6s 843us/step - loss: 1.3722 - acc: 0.7403\n",
      "Epoch 2/20\n",
      "7500/7500 [==============================] - 5s 692us/step - loss: 0.3680 - acc: 0.9483\n",
      "Epoch 3/20\n",
      "7500/7500 [==============================] - 5s 648us/step - loss: 0.1654 - acc: 0.9717\n",
      "Epoch 4/20\n",
      "7500/7500 [==============================] - 5s 684us/step - loss: 0.0954 - acc: 0.9849\n",
      "Epoch 5/20\n",
      "7500/7500 [==============================] - 5s 675us/step - loss: 0.0594 - acc: 0.9911\n",
      "Epoch 6/20\n",
      "7500/7500 [==============================] - 5s 710us/step - loss: 0.0375 - acc: 0.9949\n",
      "Epoch 7/20\n",
      "7500/7500 [==============================] - 5s 727us/step - loss: 0.0236 - acc: 0.9980\n",
      "Epoch 8/20\n",
      "7500/7500 [==============================] - 5s 694us/step - loss: 0.0163 - acc: 0.9985\n",
      "Epoch 9/20\n",
      "7500/7500 [==============================] - 5s 697us/step - loss: 0.0117 - acc: 0.9991\n",
      "Epoch 10/20\n",
      "7500/7500 [==============================] - 5s 707us/step - loss: 0.0089 - acc: 0.9996\n",
      "Epoch 11/20\n",
      "7500/7500 [==============================] - 5s 725us/step - loss: 0.0071 - acc: 0.9997\n",
      "Epoch 12/20\n",
      "7500/7500 [==============================] - 6s 741us/step - loss: 0.0057 - acc: 0.9999\n",
      "Epoch 13/20\n",
      "7500/7500 [==============================] - 5s 664us/step - loss: 0.0046 - acc: 0.9999\n",
      "Epoch 14/20\n",
      "7500/7500 [==============================] - 5s 693us/step - loss: 0.0039 - acc: 0.9999\n",
      "Epoch 15/20\n",
      "7500/7500 [==============================] - 5s 714us/step - loss: 0.0033 - acc: 1.0000\n",
      "Epoch 16/20\n",
      "7500/7500 [==============================] - 6s 742us/step - loss: 0.0027 - acc: 1.0000\n",
      "Epoch 17/20\n",
      "7500/7500 [==============================] - 5s 718us/step - loss: 0.0023 - acc: 1.0000\n",
      "Epoch 18/20\n",
      "7500/7500 [==============================] - 5s 712us/step - loss: 0.0020 - acc: 1.0000\n",
      "Epoch 19/20\n",
      "7500/7500 [==============================] - 5s 718us/step - loss: 0.0017 - acc: 1.0000\n",
      "Epoch 20/20\n",
      "7500/7500 [==============================] - 5s 678us/step - loss: 0.0014 - acc: 1.0000\n",
      "2500/2500 [==============================] - 1s 404us/step\n",
      "Accuracy on test 0.9724\n"
     ]
    }
   ],
   "source": [
    "model.compile(optimizer='adam',\n",
    "              loss='categorical_crossentropy',\n",
    "              metrics=['accuracy'])\n",
    "model.fit(mn_train_X, mn_train_y, epochs = 20)\n",
    "test_loss, test_acc = model.evaluate(mn_test_X, mn_test_y)\n",
    "print(\"Accuracy on test\", test_acc)"
   ]
  },
  {
   "cell_type": "markdown",
   "metadata": {},
   "source": [
    "### 4.(6) Достигните точности 87% на test датасете notMNIST. Архитектура сети может быть любая. Можно использовать Data Augmentation.\n"
   ]
  },
  {
   "cell_type": "code",
   "execution_count": 51,
   "metadata": {},
   "outputs": [
    {
     "name": "stdout",
     "output_type": "stream",
     "text": [
      "_________________________________________________________________\n",
      "Layer (type)                 Output Shape              Param #   \n",
      "=================================================================\n",
      "conv2d_48 (Conv2D)           (None, 26, 26, 8)         80        \n",
      "_________________________________________________________________\n",
      "conv2d_49 (Conv2D)           (None, 24, 24, 8)         584       \n",
      "_________________________________________________________________\n",
      "conv2d_50 (Conv2D)           (None, 22, 22, 8)         584       \n",
      "_________________________________________________________________\n",
      "flatten_15 (Flatten)         (None, 3872)              0         \n",
      "_________________________________________________________________\n",
      "dense_44 (Dense)             (None, 64)                247872    \n",
      "_________________________________________________________________\n",
      "dense_45 (Dense)             (None, 64)                4160      \n",
      "_________________________________________________________________\n",
      "dense_46 (Dense)             (None, 10)                650       \n",
      "=================================================================\n",
      "Total params: 253,930\n",
      "Trainable params: 253,930\n",
      "Non-trainable params: 0\n",
      "_________________________________________________________________\n",
      "Epoch 1/20\n",
      "14043/14043 [==============================] - 11s 751us/step - loss: 1.1998 - acc: 0.7012\n",
      "Epoch 2/20\n",
      "14043/14043 [==============================] - 9s 666us/step - loss: 0.4766 - acc: 0.8759\n",
      "Epoch 3/20\n",
      "14043/14043 [==============================] - 9s 665us/step - loss: 0.3459 - acc: 0.9043\n",
      "Epoch 4/20\n",
      "14043/14043 [==============================] - 9s 667us/step - loss: 0.2795 - acc: 0.9221\n",
      "Epoch 5/20\n",
      "14043/14043 [==============================] - 9s 667us/step - loss: 0.2347 - acc: 0.9334\n",
      "Epoch 6/20\n",
      "14043/14043 [==============================] - 9s 663us/step - loss: 0.1980 - acc: 0.9445\n",
      "Epoch 7/20\n",
      "14043/14043 [==============================] - 10s 678us/step - loss: 0.1640 - acc: 0.9534\n",
      "Epoch 8/20\n",
      "14043/14043 [==============================] - 9s 674us/step - loss: 0.1342 - acc: 0.9637\n",
      "Epoch 9/20\n",
      "14043/14043 [==============================] - 10s 681us/step - loss: 0.1161 - acc: 0.9672\n",
      "Epoch 10/20\n",
      "14043/14043 [==============================] - 9s 670us/step - loss: 0.0979 - acc: 0.9722\n",
      "Epoch 11/20\n",
      "14043/14043 [==============================] - 10s 677us/step - loss: 0.0857 - acc: 0.9765\n",
      "Epoch 12/20\n",
      "14043/14043 [==============================] - 9s 673us/step - loss: 0.0723 - acc: 0.9799\n",
      "Epoch 13/20\n",
      "14043/14043 [==============================] - 9s 674us/step - loss: 0.0630 - acc: 0.9834\n",
      "Epoch 14/20\n",
      "14043/14043 [==============================] - 10s 700us/step - loss: 0.0545 - acc: 0.9866\n",
      "Epoch 15/20\n",
      "14043/14043 [==============================] - 10s 679us/step - loss: 0.0491 - acc: 0.9877\n",
      "Epoch 16/20\n",
      "14043/14043 [==============================] - 9s 651us/step - loss: 0.0471 - acc: 0.9877\n",
      "Epoch 17/20\n",
      "14043/14043 [==============================] - 10s 684us/step - loss: 0.0372 - acc: 0.9905\n",
      "Epoch 18/20\n",
      "14043/14043 [==============================] - 10s 686us/step - loss: 0.0337 - acc: 0.9917\n",
      "Epoch 19/20\n",
      "14043/14043 [==============================] - 10s 679us/step - loss: 0.0340 - acc: 0.9916\n",
      "Epoch 20/20\n",
      "14043/14043 [==============================] - 10s 685us/step - loss: 0.0283 - acc: 0.9930\n",
      "4681/4681 [==============================] - 1s 314us/step\n",
      "Accuracy on test 0.9226660969878231\n"
     ]
    }
   ],
   "source": [
    "model = Sequential()\n",
    "model.add(layers.Conv2D(8, (3, 3), activation='sigmoid', input_shape=(28, 28, 1)))\n",
    "model.add(layers.Conv2D(8, (3, 3), activation='tanh'))\n",
    "model.add(layers.Conv2D(8, (3, 3), activation='relu'))\n",
    "model.add(layers.Flatten())\n",
    "model.add(layers.Dense(64, activation='sigmoid'))\n",
    "model.add(layers.Dense(64, activation='sigmoid'))\n",
    "model.add(layers.Dense(10, activation='softmax'))\n",
    "model.summary()\n",
    "\n",
    "model.compile(optimizer='adam',\n",
    "              loss='categorical_crossentropy',\n",
    "              metrics=['accuracy'])\n",
    "model.fit(nmn_train_X, nmn_train_y, epochs = 20)\n",
    "test_loss, test_acc = model.evaluate(nmn_test_X, nmn_test_y)\n",
    "print(\"Accuracy on test\", test_acc)"
   ]
  },
  {
   "cell_type": "code",
   "execution_count": null,
   "metadata": {},
   "outputs": [],
   "source": []
  }
 ],
 "metadata": {
  "kernelspec": {
   "display_name": "Python 3",
   "language": "python",
   "name": "python3"
  },
  "language_info": {
   "codemirror_mode": {
    "name": "ipython",
    "version": 3
   },
   "file_extension": ".py",
   "mimetype": "text/x-python",
   "name": "python",
   "nbconvert_exporter": "python",
   "pygments_lexer": "ipython3",
   "version": "3.5.2"
  }
 },
 "nbformat": 4,
 "nbformat_minor": 2
}
